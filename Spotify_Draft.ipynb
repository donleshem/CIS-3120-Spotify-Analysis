{
 "cells": [
  {
   "cell_type": "markdown",
   "metadata": {
    "id": "-QglWmrydOsL"
   },
   "source": [
    "### **Group 7 Project - Spotify Analysis**\n",
    "\n",
    "Yosef Friedman - yosef.friedman@baruchmail.cuny.edu\n",
    "\n",
    "Don Leshem - don.leshem@baruchmail.cuny.edu\n",
    "\n",
    "Samantha Tavares - samantha.tavares@baruchmail.cuny.edu "
   ]
  },
  {
   "cell_type": "markdown",
   "metadata": {
    "id": "3why6yscqqsF"
   },
   "source": [
    "# Data Importing"
   ]
  },
  {
   "cell_type": "markdown",
   "metadata": {
    "id": "5IsGqZiHW99G"
   },
   "source": [
    "We will be analyzing Spotify's catalog data for our project. We will gather various datasets and summarize and analyze Spotify's data. We will do exploratory analysis to look at popular songs, user playlists, and other information to build reports and analyze what songs and artists are most popular, and visualize our findings.\n",
    "\n",
    "Datasets Used: kaggle.com/yamaerenay/spotify-dataset-19212020-160k-tracks\n",
    "Github Repository: github.com/donleshem/CIS-3120-Spotify-Analysis"
   ]
  },
  {
   "cell_type": "code",
   "execution_count": 2,
   "metadata": {
    "colab": {
     "base_uri": "https://localhost:8080/",
     "height": 413
    },
    "id": "on9rOLSXE8OA",
    "outputId": "66069adc-d0dc-4907-9d69-2a4243f95401"
   },
   "outputs": [
    {
     "data": {
      "text/html": [
       "<div>\n",
       "<style scoped>\n",
       "    .dataframe tbody tr th:only-of-type {\n",
       "        vertical-align: middle;\n",
       "    }\n",
       "\n",
       "    .dataframe tbody tr th {\n",
       "        vertical-align: top;\n",
       "    }\n",
       "\n",
       "    .dataframe thead th {\n",
       "        text-align: right;\n",
       "    }\n",
       "</style>\n",
       "<table border=\"1\" class=\"dataframe\">\n",
       "  <thead>\n",
       "    <tr style=\"text-align: right;\">\n",
       "      <th></th>\n",
       "      <th>acousticness</th>\n",
       "      <th>artists</th>\n",
       "      <th>danceability</th>\n",
       "      <th>duration_ms</th>\n",
       "      <th>energy</th>\n",
       "      <th>explicit</th>\n",
       "      <th>id</th>\n",
       "      <th>instrumentalness</th>\n",
       "      <th>key</th>\n",
       "      <th>liveness</th>\n",
       "      <th>loudness</th>\n",
       "      <th>mode</th>\n",
       "      <th>name</th>\n",
       "      <th>popularity</th>\n",
       "      <th>release_date</th>\n",
       "      <th>speechiness</th>\n",
       "      <th>tempo</th>\n",
       "      <th>valence</th>\n",
       "      <th>year</th>\n",
       "    </tr>\n",
       "  </thead>\n",
       "  <tbody>\n",
       "    <tr>\n",
       "      <th>0</th>\n",
       "      <td>0.991</td>\n",
       "      <td>['Mamie Smith']</td>\n",
       "      <td>0.598</td>\n",
       "      <td>168333</td>\n",
       "      <td>0.224</td>\n",
       "      <td>0</td>\n",
       "      <td>0cS0A1fUEUd1EW3FcF8AEI</td>\n",
       "      <td>0.000522</td>\n",
       "      <td>5</td>\n",
       "      <td>0.3790</td>\n",
       "      <td>-12.628</td>\n",
       "      <td>0</td>\n",
       "      <td>Keep A Song In Your Soul</td>\n",
       "      <td>12</td>\n",
       "      <td>1920</td>\n",
       "      <td>0.0936</td>\n",
       "      <td>149.976</td>\n",
       "      <td>0.6340</td>\n",
       "      <td>1920</td>\n",
       "    </tr>\n",
       "    <tr>\n",
       "      <th>1</th>\n",
       "      <td>0.643</td>\n",
       "      <td>[\"Screamin' Jay Hawkins\"]</td>\n",
       "      <td>0.852</td>\n",
       "      <td>150200</td>\n",
       "      <td>0.517</td>\n",
       "      <td>0</td>\n",
       "      <td>0hbkKFIJm7Z05H8Zl9w30f</td>\n",
       "      <td>0.026400</td>\n",
       "      <td>5</td>\n",
       "      <td>0.0809</td>\n",
       "      <td>-7.261</td>\n",
       "      <td>0</td>\n",
       "      <td>I Put A Spell On You</td>\n",
       "      <td>7</td>\n",
       "      <td>1920-01-05</td>\n",
       "      <td>0.0534</td>\n",
       "      <td>86.889</td>\n",
       "      <td>0.9500</td>\n",
       "      <td>1920</td>\n",
       "    </tr>\n",
       "    <tr>\n",
       "      <th>2</th>\n",
       "      <td>0.993</td>\n",
       "      <td>['Mamie Smith']</td>\n",
       "      <td>0.647</td>\n",
       "      <td>163827</td>\n",
       "      <td>0.186</td>\n",
       "      <td>0</td>\n",
       "      <td>11m7laMUgmOKqI3oYzuhne</td>\n",
       "      <td>0.000018</td>\n",
       "      <td>0</td>\n",
       "      <td>0.5190</td>\n",
       "      <td>-12.098</td>\n",
       "      <td>1</td>\n",
       "      <td>Golfing Papa</td>\n",
       "      <td>4</td>\n",
       "      <td>1920</td>\n",
       "      <td>0.1740</td>\n",
       "      <td>97.600</td>\n",
       "      <td>0.6890</td>\n",
       "      <td>1920</td>\n",
       "    </tr>\n",
       "    <tr>\n",
       "      <th>3</th>\n",
       "      <td>0.000173</td>\n",
       "      <td>['Oscar Velazquez']</td>\n",
       "      <td>0.730</td>\n",
       "      <td>422087</td>\n",
       "      <td>0.798</td>\n",
       "      <td>0</td>\n",
       "      <td>19Lc5SfJJ5O1oaxY0fpwfh</td>\n",
       "      <td>0.801000</td>\n",
       "      <td>2</td>\n",
       "      <td>0.1280</td>\n",
       "      <td>-7.311</td>\n",
       "      <td>1</td>\n",
       "      <td>True House Music - Xavier Santos &amp; Carlos Gomi...</td>\n",
       "      <td>17</td>\n",
       "      <td>1920-01-01</td>\n",
       "      <td>0.0425</td>\n",
       "      <td>127.997</td>\n",
       "      <td>0.0422</td>\n",
       "      <td>1920</td>\n",
       "    </tr>\n",
       "    <tr>\n",
       "      <th>4</th>\n",
       "      <td>0.295</td>\n",
       "      <td>['Mixe']</td>\n",
       "      <td>0.704</td>\n",
       "      <td>165224</td>\n",
       "      <td>0.707</td>\n",
       "      <td>1</td>\n",
       "      <td>2hJjbsLCytGsnAHfdsLejp</td>\n",
       "      <td>0.000246</td>\n",
       "      <td>10</td>\n",
       "      <td>0.4020</td>\n",
       "      <td>-6.036</td>\n",
       "      <td>0</td>\n",
       "      <td>Xuniverxe</td>\n",
       "      <td>2</td>\n",
       "      <td>1920-10-01</td>\n",
       "      <td>0.0768</td>\n",
       "      <td>122.076</td>\n",
       "      <td>0.2990</td>\n",
       "      <td>1920</td>\n",
       "    </tr>\n",
       "  </tbody>\n",
       "</table>\n",
       "</div>"
      ],
      "text/plain": [
       "  acousticness                    artists  danceability  duration_ms  energy  \\\n",
       "0        0.991            ['Mamie Smith']         0.598       168333   0.224   \n",
       "1        0.643  [\"Screamin' Jay Hawkins\"]         0.852       150200   0.517   \n",
       "2        0.993            ['Mamie Smith']         0.647       163827   0.186   \n",
       "3     0.000173        ['Oscar Velazquez']         0.730       422087   0.798   \n",
       "4        0.295                   ['Mixe']         0.704       165224   0.707   \n",
       "\n",
       "   explicit                      id  instrumentalness  key  liveness  \\\n",
       "0         0  0cS0A1fUEUd1EW3FcF8AEI          0.000522    5    0.3790   \n",
       "1         0  0hbkKFIJm7Z05H8Zl9w30f          0.026400    5    0.0809   \n",
       "2         0  11m7laMUgmOKqI3oYzuhne          0.000018    0    0.5190   \n",
       "3         0  19Lc5SfJJ5O1oaxY0fpwfh          0.801000    2    0.1280   \n",
       "4         1  2hJjbsLCytGsnAHfdsLejp          0.000246   10    0.4020   \n",
       "\n",
       "   loudness  mode                                               name  \\\n",
       "0   -12.628     0                           Keep A Song In Your Soul   \n",
       "1    -7.261     0                               I Put A Spell On You   \n",
       "2   -12.098     1                                       Golfing Papa   \n",
       "3    -7.311     1  True House Music - Xavier Santos & Carlos Gomi...   \n",
       "4    -6.036     0                                          Xuniverxe   \n",
       "\n",
       "   popularity release_date  speechiness    tempo  valence  year  \n",
       "0          12         1920       0.0936  149.976   0.6340  1920  \n",
       "1           7   1920-01-05       0.0534   86.889   0.9500  1920  \n",
       "2           4         1920       0.1740   97.600   0.6890  1920  \n",
       "3          17   1920-01-01       0.0425  127.997   0.0422  1920  \n",
       "4           2   1920-10-01       0.0768  122.076   0.2990  1920  "
      ]
     },
     "execution_count": 2,
     "metadata": {},
     "output_type": "execute_result"
    }
   ],
   "source": [
    "# importing libraries and data files\n",
    "# initially we made the first column the index, but we decided to use the default index instead\n",
    "\n",
    "import pandas as pd\n",
    "import numpy as np\n",
    "import requests\n",
    "from bs4 import BeautifulSoup\n",
    "\n",
    "df1 = pd.read_csv(\"data/data.csv\", parse_dates=[0])\n",
    "\n",
    "data_by_genres = pd.read_csv(\"data/data_by_genres.csv\", parse_dates=[0])\n",
    "\n",
    "data_by_year = pd.read_csv(\"data/data_by_year.csv\", parse_dates=[0])\n",
    "\n",
    "df1.head()"
   ]
  },
  {
   "cell_type": "code",
   "execution_count": 3,
   "metadata": {
    "colab": {
     "base_uri": "https://localhost:8080/",
     "height": 314
    },
    "id": "Y203PhT3S7vU",
    "outputId": "15cb503c-9a30-431d-dbb3-f9a3792ed22b"
   },
   "outputs": [
    {
     "data": {
      "text/html": [
       "<div>\n",
       "<style scoped>\n",
       "    .dataframe tbody tr th:only-of-type {\n",
       "        vertical-align: middle;\n",
       "    }\n",
       "\n",
       "    .dataframe tbody tr th {\n",
       "        vertical-align: top;\n",
       "    }\n",
       "\n",
       "    .dataframe thead th {\n",
       "        text-align: right;\n",
       "    }\n",
       "</style>\n",
       "<table border=\"1\" class=\"dataframe\">\n",
       "  <thead>\n",
       "    <tr style=\"text-align: right;\">\n",
       "      <th></th>\n",
       "      <th>danceability</th>\n",
       "      <th>duration_ms</th>\n",
       "      <th>energy</th>\n",
       "      <th>explicit</th>\n",
       "      <th>instrumentalness</th>\n",
       "      <th>key</th>\n",
       "      <th>liveness</th>\n",
       "      <th>loudness</th>\n",
       "      <th>mode</th>\n",
       "      <th>popularity</th>\n",
       "      <th>speechiness</th>\n",
       "      <th>tempo</th>\n",
       "      <th>valence</th>\n",
       "      <th>year</th>\n",
       "    </tr>\n",
       "  </thead>\n",
       "  <tbody>\n",
       "    <tr>\n",
       "      <th>count</th>\n",
       "      <td>174389.000000</td>\n",
       "      <td>1.743890e+05</td>\n",
       "      <td>174389.000000</td>\n",
       "      <td>174389.000000</td>\n",
       "      <td>174389.000000</td>\n",
       "      <td>174389.000000</td>\n",
       "      <td>174389.000000</td>\n",
       "      <td>174389.000000</td>\n",
       "      <td>174389.000000</td>\n",
       "      <td>174389.000000</td>\n",
       "      <td>174389.000000</td>\n",
       "      <td>174389.000000</td>\n",
       "      <td>174389.000000</td>\n",
       "      <td>174389.000000</td>\n",
       "    </tr>\n",
       "    <tr>\n",
       "      <th>mean</th>\n",
       "      <td>0.536758</td>\n",
       "      <td>2.328100e+05</td>\n",
       "      <td>0.482721</td>\n",
       "      <td>0.068135</td>\n",
       "      <td>0.197252</td>\n",
       "      <td>5.205305</td>\n",
       "      <td>0.211123</td>\n",
       "      <td>-11.750865</td>\n",
       "      <td>0.702384</td>\n",
       "      <td>25.693381</td>\n",
       "      <td>0.105729</td>\n",
       "      <td>117.006500</td>\n",
       "      <td>0.524533</td>\n",
       "      <td>1977.061764</td>\n",
       "    </tr>\n",
       "    <tr>\n",
       "      <th>std</th>\n",
       "      <td>0.176025</td>\n",
       "      <td>1.483958e+05</td>\n",
       "      <td>0.272685</td>\n",
       "      <td>0.251978</td>\n",
       "      <td>0.334574</td>\n",
       "      <td>3.518292</td>\n",
       "      <td>0.180493</td>\n",
       "      <td>5.691591</td>\n",
       "      <td>0.457211</td>\n",
       "      <td>21.872740</td>\n",
       "      <td>0.182260</td>\n",
       "      <td>30.254178</td>\n",
       "      <td>0.264477</td>\n",
       "      <td>26.907950</td>\n",
       "    </tr>\n",
       "    <tr>\n",
       "      <th>min</th>\n",
       "      <td>0.000000</td>\n",
       "      <td>4.937000e+03</td>\n",
       "      <td>0.000000</td>\n",
       "      <td>0.000000</td>\n",
       "      <td>0.000000</td>\n",
       "      <td>0.000000</td>\n",
       "      <td>0.000000</td>\n",
       "      <td>-60.000000</td>\n",
       "      <td>0.000000</td>\n",
       "      <td>0.000000</td>\n",
       "      <td>0.000000</td>\n",
       "      <td>0.000000</td>\n",
       "      <td>0.000000</td>\n",
       "      <td>1920.000000</td>\n",
       "    </tr>\n",
       "    <tr>\n",
       "      <th>25%</th>\n",
       "      <td>0.414000</td>\n",
       "      <td>1.661330e+05</td>\n",
       "      <td>0.249000</td>\n",
       "      <td>0.000000</td>\n",
       "      <td>0.000000</td>\n",
       "      <td>2.000000</td>\n",
       "      <td>0.099200</td>\n",
       "      <td>-14.908000</td>\n",
       "      <td>0.000000</td>\n",
       "      <td>1.000000</td>\n",
       "      <td>0.035200</td>\n",
       "      <td>93.931000</td>\n",
       "      <td>0.311000</td>\n",
       "      <td>1955.000000</td>\n",
       "    </tr>\n",
       "    <tr>\n",
       "      <th>50%</th>\n",
       "      <td>0.548000</td>\n",
       "      <td>2.057870e+05</td>\n",
       "      <td>0.465000</td>\n",
       "      <td>0.000000</td>\n",
       "      <td>0.000524</td>\n",
       "      <td>5.000000</td>\n",
       "      <td>0.138000</td>\n",
       "      <td>-10.836000</td>\n",
       "      <td>1.000000</td>\n",
       "      <td>25.000000</td>\n",
       "      <td>0.045500</td>\n",
       "      <td>115.816000</td>\n",
       "      <td>0.536000</td>\n",
       "      <td>1977.000000</td>\n",
       "    </tr>\n",
       "    <tr>\n",
       "      <th>75%</th>\n",
       "      <td>0.669000</td>\n",
       "      <td>2.657200e+05</td>\n",
       "      <td>0.711000</td>\n",
       "      <td>0.000000</td>\n",
       "      <td>0.252000</td>\n",
       "      <td>8.000000</td>\n",
       "      <td>0.270000</td>\n",
       "      <td>-7.499000</td>\n",
       "      <td>1.000000</td>\n",
       "      <td>42.000000</td>\n",
       "      <td>0.076300</td>\n",
       "      <td>135.011000</td>\n",
       "      <td>0.743000</td>\n",
       "      <td>1999.000000</td>\n",
       "    </tr>\n",
       "    <tr>\n",
       "      <th>max</th>\n",
       "      <td>0.988000</td>\n",
       "      <td>5.338302e+06</td>\n",
       "      <td>1.000000</td>\n",
       "      <td>1.000000</td>\n",
       "      <td>1.000000</td>\n",
       "      <td>11.000000</td>\n",
       "      <td>1.000000</td>\n",
       "      <td>3.855000</td>\n",
       "      <td>1.000000</td>\n",
       "      <td>100.000000</td>\n",
       "      <td>0.971000</td>\n",
       "      <td>243.507000</td>\n",
       "      <td>1.000000</td>\n",
       "      <td>2021.000000</td>\n",
       "    </tr>\n",
       "  </tbody>\n",
       "</table>\n",
       "</div>"
      ],
      "text/plain": [
       "        danceability   duration_ms         energy       explicit  \\\n",
       "count  174389.000000  1.743890e+05  174389.000000  174389.000000   \n",
       "mean        0.536758  2.328100e+05       0.482721       0.068135   \n",
       "std         0.176025  1.483958e+05       0.272685       0.251978   \n",
       "min         0.000000  4.937000e+03       0.000000       0.000000   \n",
       "25%         0.414000  1.661330e+05       0.249000       0.000000   \n",
       "50%         0.548000  2.057870e+05       0.465000       0.000000   \n",
       "75%         0.669000  2.657200e+05       0.711000       0.000000   \n",
       "max         0.988000  5.338302e+06       1.000000       1.000000   \n",
       "\n",
       "       instrumentalness            key       liveness       loudness  \\\n",
       "count     174389.000000  174389.000000  174389.000000  174389.000000   \n",
       "mean           0.197252       5.205305       0.211123     -11.750865   \n",
       "std            0.334574       3.518292       0.180493       5.691591   \n",
       "min            0.000000       0.000000       0.000000     -60.000000   \n",
       "25%            0.000000       2.000000       0.099200     -14.908000   \n",
       "50%            0.000524       5.000000       0.138000     -10.836000   \n",
       "75%            0.252000       8.000000       0.270000      -7.499000   \n",
       "max            1.000000      11.000000       1.000000       3.855000   \n",
       "\n",
       "                mode     popularity    speechiness          tempo  \\\n",
       "count  174389.000000  174389.000000  174389.000000  174389.000000   \n",
       "mean        0.702384      25.693381       0.105729     117.006500   \n",
       "std         0.457211      21.872740       0.182260      30.254178   \n",
       "min         0.000000       0.000000       0.000000       0.000000   \n",
       "25%         0.000000       1.000000       0.035200      93.931000   \n",
       "50%         1.000000      25.000000       0.045500     115.816000   \n",
       "75%         1.000000      42.000000       0.076300     135.011000   \n",
       "max         1.000000     100.000000       0.971000     243.507000   \n",
       "\n",
       "             valence           year  \n",
       "count  174389.000000  174389.000000  \n",
       "mean        0.524533    1977.061764  \n",
       "std         0.264477      26.907950  \n",
       "min         0.000000    1920.000000  \n",
       "25%         0.311000    1955.000000  \n",
       "50%         0.536000    1977.000000  \n",
       "75%         0.743000    1999.000000  \n",
       "max         1.000000    2021.000000  "
      ]
     },
     "execution_count": 3,
     "metadata": {},
     "output_type": "execute_result"
    }
   ],
   "source": [
    "df1.describe()"
   ]
  },
  {
   "cell_type": "code",
   "execution_count": 4,
   "metadata": {},
   "outputs": [],
   "source": [
    "# scrapping Wikipedia to get the list of the most listened to artist listed \n",
    "\n",
    "response_url = 'https://en.wikipedia.org/wiki/List_of_most-streamed_artists_on_Spotify'\n",
    "response = requests.get(response_url)\n",
    "soup = BeautifulSoup(response.text, 'html.parser')"
   ]
  },
  {
   "cell_type": "code",
   "execution_count": 10,
   "metadata": {},
   "outputs": [
    {
     "data": {
      "text/html": [
       "<div>\n",
       "<style scoped>\n",
       "    .dataframe tbody tr th:only-of-type {\n",
       "        vertical-align: middle;\n",
       "    }\n",
       "\n",
       "    .dataframe tbody tr th {\n",
       "        vertical-align: top;\n",
       "    }\n",
       "\n",
       "    .dataframe thead th {\n",
       "        text-align: right;\n",
       "    }\n",
       "</style>\n",
       "<table border=\"1\" class=\"dataframe\">\n",
       "  <thead>\n",
       "    <tr style=\"text-align: right;\">\n",
       "      <th></th>\n",
       "      <th>Rank</th>\n",
       "      <th>Artist</th>\n",
       "      <th>Monthly listeners(millions)</th>\n",
       "      <th>Chg</th>\n",
       "      <th>Ref(s)</th>\n",
       "      <th>Unnamed: 5</th>\n",
       "    </tr>\n",
       "  </thead>\n",
       "  <tbody>\n",
       "    <tr>\n",
       "      <th>0</th>\n",
       "      <td>1</td>\n",
       "      <td>The Weeknd</td>\n",
       "      <td>75.82</td>\n",
       "      <td>NaN</td>\n",
       "      <td>[1]</td>\n",
       "      <td>NaN</td>\n",
       "    </tr>\n",
       "    <tr>\n",
       "      <th>1</th>\n",
       "      <td>2</td>\n",
       "      <td>Dua Lipa</td>\n",
       "      <td>63.66</td>\n",
       "      <td>NaN</td>\n",
       "      <td>[2]</td>\n",
       "      <td>NaN</td>\n",
       "    </tr>\n",
       "    <tr>\n",
       "      <th>2</th>\n",
       "      <td>3</td>\n",
       "      <td>Justin Bieber</td>\n",
       "      <td>63.36</td>\n",
       "      <td>NaN</td>\n",
       "      <td>[3]</td>\n",
       "      <td>NaN</td>\n",
       "    </tr>\n",
       "    <tr>\n",
       "      <th>3</th>\n",
       "      <td>4</td>\n",
       "      <td>Ariana Grande</td>\n",
       "      <td>61.57</td>\n",
       "      <td>NaN</td>\n",
       "      <td>[4]</td>\n",
       "      <td>NaN</td>\n",
       "    </tr>\n",
       "    <tr>\n",
       "      <th>4</th>\n",
       "      <td>5</td>\n",
       "      <td>Ed Sheeran</td>\n",
       "      <td>56.32</td>\n",
       "      <td>NaN</td>\n",
       "      <td>[5]</td>\n",
       "      <td>NaN</td>\n",
       "    </tr>\n",
       "  </tbody>\n",
       "</table>\n",
       "</div>"
      ],
      "text/plain": [
       "  Rank         Artist Monthly listeners(millions)  Chg Ref(s) Unnamed: 5\n",
       "0    1     The Weeknd                       75.82  NaN    [1]        NaN\n",
       "1    2       Dua Lipa                       63.66  NaN    [2]        NaN\n",
       "2    3  Justin Bieber                       63.36  NaN    [3]        NaN\n",
       "3    4  Ariana Grande                       61.57  NaN    [4]        NaN\n",
       "4    5     Ed Sheeran                       56.32  NaN    [5]        NaN"
      ]
     },
     "execution_count": 10,
     "metadata": {},
     "output_type": "execute_result"
    }
   ],
   "source": [
    "# reading the page data and extracting the first table on the page \n",
    "\n",
    "wiki_tables = pd.read_html(response_url)\n",
    "\n",
    "most_listend_df = wiki_tables[1]\n",
    "\n",
    "most_listend_df.head()\n"
   ]
  },
  {
   "cell_type": "code",
   "execution_count": 11,
   "metadata": {
    "scrolled": true
   },
   "outputs": [
    {
     "data": {
      "text/html": [
       "<div>\n",
       "<style scoped>\n",
       "    .dataframe tbody tr th:only-of-type {\n",
       "        vertical-align: middle;\n",
       "    }\n",
       "\n",
       "    .dataframe tbody tr th {\n",
       "        vertical-align: top;\n",
       "    }\n",
       "\n",
       "    .dataframe thead th {\n",
       "        text-align: right;\n",
       "    }\n",
       "</style>\n",
       "<table border=\"1\" class=\"dataframe\">\n",
       "  <thead>\n",
       "    <tr style=\"text-align: right;\">\n",
       "      <th></th>\n",
       "      <th>Rank</th>\n",
       "      <th>Artist</th>\n",
       "      <th>Monthly listeners(millions)</th>\n",
       "    </tr>\n",
       "  </thead>\n",
       "  <tbody>\n",
       "    <tr>\n",
       "      <th>0</th>\n",
       "      <td>1</td>\n",
       "      <td>The Weeknd</td>\n",
       "      <td>75.82</td>\n",
       "    </tr>\n",
       "    <tr>\n",
       "      <th>1</th>\n",
       "      <td>2</td>\n",
       "      <td>Dua Lipa</td>\n",
       "      <td>63.66</td>\n",
       "    </tr>\n",
       "    <tr>\n",
       "      <th>2</th>\n",
       "      <td>3</td>\n",
       "      <td>Justin Bieber</td>\n",
       "      <td>63.36</td>\n",
       "    </tr>\n",
       "    <tr>\n",
       "      <th>3</th>\n",
       "      <td>4</td>\n",
       "      <td>Ariana Grande</td>\n",
       "      <td>61.57</td>\n",
       "    </tr>\n",
       "    <tr>\n",
       "      <th>4</th>\n",
       "      <td>5</td>\n",
       "      <td>Ed Sheeran</td>\n",
       "      <td>56.32</td>\n",
       "    </tr>\n",
       "  </tbody>\n",
       "</table>\n",
       "</div>"
      ],
      "text/plain": [
       "  Rank         Artist Monthly listeners(millions)\n",
       "0    1     The Weeknd                       75.82\n",
       "1    2       Dua Lipa                       63.66\n",
       "2    3  Justin Bieber                       63.36\n",
       "3    4  Ariana Grande                       61.57\n",
       "4    5     Ed Sheeran                       56.32"
      ]
     },
     "execution_count": 11,
     "metadata": {},
     "output_type": "execute_result"
    }
   ],
   "source": [
    "# dropping columns we don't need for the analysis\n",
    "\n",
    "most_listend_df = most_listend_df.drop(columns = ['Chg', 'Ref(s)', 'Unnamed: 5'])\n",
    "most_listend_df.head()"
   ]
  },
  {
   "cell_type": "code",
   "execution_count": 3,
   "metadata": {
    "id": "sqkSrPXFIMh3"
   },
   "outputs": [],
   "source": [
    "# dropping columns we don't need for the analysis\n",
    "\n",
    "df1 = df1.drop(columns = ['valence', 'mode', 'speechiness', 'instrumentalness'])"
   ]
  },
  {
   "cell_type": "code",
   "execution_count": 4,
   "metadata": {
    "colab": {
     "base_uri": "https://localhost:8080/"
    },
    "id": "0b5Kid8erU9g",
    "outputId": "eed4213e-8d6b-47b8-9c42-5d798da32cc4"
   },
   "outputs": [
    {
     "name": "stdout",
     "output_type": "stream",
     "text": [
      "0\n"
     ]
    }
   ],
   "source": [
    "# checking for NaN values\n",
    "\n",
    "print(df1.isna().values.sum())"
   ]
  },
  {
   "cell_type": "markdown",
   "metadata": {
    "id": "26Sba8GtJLM2"
   },
   "source": [
    "There are duplicate songs on the list..."
   ]
  },
  {
   "cell_type": "code",
   "execution_count": 5,
   "metadata": {
    "colab": {
     "base_uri": "https://localhost:8080/"
    },
    "id": "_ZHHh0vpHsP-",
    "outputId": "7773eafd-2466-43e6-9875-5258243dd265"
   },
   "outputs": [
    {
     "data": {
      "text/plain": [
       "White Christmas                                                                                103\n",
       "Winter Wonderland                                                                               88\n",
       "Silent Night                                                                                    81\n",
       "Jingle Bells                                                                                    71\n",
       "2000 Years                                                                                      70\n",
       "Happy New Year                                                                                  57\n",
       "Sleigh Ride                                                                                     54\n",
       "Summertime                                                                                      53\n",
       "The Christmas Song                                                                              51\n",
       "Silver Bells                                                                                    51\n",
       "Overture                                                                                        49\n",
       "O Holy Night                                                                                    48\n",
       "99 Year Blues                                                                                   45\n",
       "Ave Maria                                                                                       39\n",
       "It's the Most Wonderful Time of the Year                                                        39\n",
       "My Only Wish (This Year)                                                                        38\n",
       "7 Years                                                                                         36\n",
       "Have Yourself a Merry Little Christmas                                                          36\n",
       "Stay                                                                                            34\n",
       "Blue Christmas                                                                                  34\n",
       "Hark! The Herald Angels Sing                                                                    34\n",
       "Have Yourself A Merry Little Christmas                                                          34\n",
       "Stardust                                                                                        33\n",
       "New Years Day - Original Mix                                                                    32\n",
       "I Love You                                                                                      31\n",
       "Santa Claus Is Coming To Town                                                                   31\n",
       "Autumn Leaves                                                                                   30\n",
       "The First Noel                                                                                  29\n",
       "The Little Drummer Boy                                                                          28\n",
       "Time After Time                                                                                 28\n",
       "                                                                                              ... \n",
       "Autumn Leaves - Deluxe Edition                                                                   1\n",
       "Every Day and in Every Way                                                                       1\n",
       "Tied Down - From Tied Down LP 1983                                                               1\n",
       "Heaven Bound                                                                                     1\n",
       "This Is The Day                                                                                  1\n",
       "Cheyenne                                                                                         1\n",
       "Love Me Tender - From the 20th Century-Fox CinemaScope Production, \"Love Me Tender\"              1\n",
       "Can't Stand The Night                                                                            1\n",
       "Become What You Hate                                                                             1\n",
       "How? When My Heart Belongs To You                                                                1\n",
       "La Bohème: Act IV: The Duel                                                                      1\n",
       "La mente vola                                                                                    1\n",
       "Aux armes et caetera                                                                             1\n",
       "Just Once                                                                                        1\n",
       "Stars Over Rio                                                                                   1\n",
       "Piano Concerto in A minor, Op. 54 - I. Allegro affettuoso                                        1\n",
       "Esperar En Ti                                                                                    1\n",
       "Werther, Acte II: Vivat Bacchus!                                                                 1\n",
       "Las Tres Carabelas                                                                               1\n",
       "Love Comes Love Goes                                                                             1\n",
       "I'm Thru with Love                                                                               1\n",
       "L'assassinat de Carala - BOF \"Ascenseur pour l'échafaud\"                                         1\n",
       "Our First Christmas                                                                              1\n",
       "Gettin' Tighter                                                                                  1\n",
       "Eric After Hours Blues                                                                           1\n",
       "Snow Flakes                                                                                      1\n",
       "Whip Appeal                                                                                      1\n",
       "A State Of Trance (ASOT 837) - Tune Of The Year 2017 voting, Pt. 1: vote.astateoftrance.com      1\n",
       "Crackity Jones                                                                                   1\n",
       "Queen of Memphis - Remastered Version                                                            1\n",
       "Name: name, Length: 137013, dtype: int64"
      ]
     },
     "execution_count": 5,
     "metadata": {},
     "output_type": "execute_result"
    }
   ],
   "source": [
    "df1['name'].value_counts()"
   ]
  },
  {
   "cell_type": "code",
   "execution_count": 6,
   "metadata": {
    "id": "oHeOHb7kUMcm"
   },
   "outputs": [],
   "source": [
    "# create series w/ White Christmas, Artist"
   ]
  },
  {
   "cell_type": "code",
   "execution_count": 7,
   "metadata": {
    "colab": {
     "base_uri": "https://localhost:8080/"
    },
    "id": "QTEEWhRmHUIH",
    "outputId": "016af546-9fe0-4aed-b304-a5e6334eefe5"
   },
   "outputs": [
    {
     "data": {
      "text/plain": [
       "['Tadeusz Dolega Mostowicz']      1281\n",
       "['Эрнест Хемингуэй']              1175\n",
       "['Эрих Мария Ремарк']             1062\n",
       "['Francisco Canaro']               951\n",
       "['Ignacio Corsini']                624\n",
       "['Frank Sinatra']                  621\n",
       "['Elvis Presley']                  494\n",
       "['Bob Dylan']                      459\n",
       "['Francisco Canaro', 'Charlo']     456\n",
       "['Johnny Cash']                    456\n",
       "Name: artists, dtype: int64"
      ]
     },
     "execution_count": 7,
     "metadata": {},
     "output_type": "execute_result"
    }
   ],
   "source": [
    "# most prolific artists\n",
    "\n",
    "df1['artists'].value_counts().nlargest(10)"
   ]
  },
  {
   "cell_type": "markdown",
   "metadata": {
    "id": "nPnq-PEGdTww"
   },
   "source": [
    "In the above list of artists:\n",
    "- We need to remove the brackets and apostrophes\n",
    "- Francisco Canaro comes up twice. We need to replace ['Francisco Canaro', 'Charlo'] with ['Francisco Canaro']"
   ]
  },
  {
   "cell_type": "code",
   "execution_count": 8,
   "metadata": {
    "colab": {
     "base_uri": "https://localhost:8080/"
    },
    "id": "fLh0V6Dbdm-b",
    "outputId": "05e758b5-e26a-4407-b9f8-eca1c1a5abb5"
   },
   "outputs": [
    {
     "name": "stdout",
     "output_type": "stream",
     "text": [
      "Tadeusz Dolega Mostowicz    1281\n",
      "Эрнест Хемингуэй            1175\n",
      "Эрих Мария Ремарк           1062\n",
      "Francisco Canaro             951\n",
      "Ignacio Corsini              624\n",
      "Name: artists, dtype: int64\n"
     ]
    }
   ],
   "source": [
    "# removing the brackets and apostrophes\n",
    "\n",
    "df1['artists']= df1['artists'].str.strip('[')\n",
    "df1['artists']= df1['artists'].str.strip(']')\n",
    "df1['artists']= df1['artists'].str.strip(\"'\")\n",
    "df1['artists']= df1['artists'].str.strip(\"'\")\n",
    "\n",
    "print(df1['artists'].value_counts().nlargest(5))"
   ]
  },
  {
   "cell_type": "code",
   "execution_count": 9,
   "metadata": {
    "id": "s1enxpU1kTUb"
   },
   "outputs": [],
   "source": [
    "# Replacing **Francisco Canaro', 'Charlo** with **Francisco Canaro** to get an accurate count \n",
    "\n",
    "df1 = df1.replace({'artists': \"Francisco Canaro', 'Charlo\"}, {'artists': 'Francisco Canaro'})"
   ]
  },
  {
   "cell_type": "markdown",
   "metadata": {
    "id": "c_-ahkusk7tW"
   },
   "source": [
    "Now that we cleaned the data a bit, we can see that Francisco Canaro is actually the most popular artist!"
   ]
  },
  {
   "cell_type": "code",
   "execution_count": 10,
   "metadata": {
    "colab": {
     "base_uri": "https://localhost:8080/"
    },
    "id": "bF0rRWLais1Y",
    "outputId": "46786a67-ff3d-43eb-ec22-35129757eef4"
   },
   "outputs": [
    {
     "name": "stdout",
     "output_type": "stream",
     "text": [
      "Francisco Canaro            1407\n",
      "Tadeusz Dolega Mostowicz    1281\n",
      "Эрнест Хемингуэй            1175\n",
      "Эрих Мария Ремарк           1062\n",
      "Ignacio Corsini              624\n",
      "Frank Sinatra                621\n",
      "Elvis Presley                494\n",
      "Bob Dylan                    459\n",
      "Johnny Cash                  456\n",
      "The Rolling Stones           450\n",
      "Name: artists, dtype: int64\n"
     ]
    }
   ],
   "source": [
    "print(df1['artists'].value_counts().nlargest(10))"
   ]
  },
  {
   "cell_type": "markdown",
   "metadata": {
    "id": "Y1MbdPHxxh_u"
   },
   "source": [
    "# Cleaning and Exploring the Data"
   ]
  },
  {
   "cell_type": "code",
   "execution_count": 11,
   "metadata": {
    "colab": {
     "base_uri": "https://localhost:8080/"
    },
    "id": "mhRnYqB3KFx4",
    "outputId": "b718b55b-d26b-48bb-b5ac-b2652f598aaa"
   },
   "outputs": [
    {
     "name": "stdout",
     "output_type": "stream",
     "text": [
      "                 genres  acousticness  danceability  duration_ms  energy  \\\n",
      "565  chinese electropop       0.00257          0.66     217088.0   0.787   \n",
      "\n",
      "     instrumentalness  liveness  loudness  speechiness    tempo  valence  \\\n",
      "565               0.0     0.323    -4.592        0.032  142.018    0.199   \n",
      "\n",
      "     popularity  key  mode  \n",
      "565        79.0    1     0  \n"
     ]
    }
   ],
   "source": [
    "# finding the max popularity score\n",
    "\n",
    "data_by_genres['popularity'].max()\n",
    "\n",
    "# filtering out which genre(s) have the max score\n",
    "\n",
    "popular_genres = data_by_genres.loc[data_by_genres['popularity'] == 79.0] \n",
    "\n",
    "print(popular_genres)"
   ]
  },
  {
   "cell_type": "markdown",
   "metadata": {
    "id": "iXAlW2aOO7AP"
   },
   "source": [
    "The most popular genre is chinese electropop!"
   ]
  },
  {
   "cell_type": "code",
   "execution_count": 12,
   "metadata": {
    "colab": {
     "base_uri": "https://localhost:8080/"
    },
    "id": "ZN4upSpFZXjT",
    "outputId": "72d9ce90-d1b1-4272-cb3c-496bc432f6d9"
   },
   "outputs": [
    {
     "data": {
      "text/plain": [
       "29.701617819589185"
      ]
     },
     "execution_count": 12,
     "metadata": {},
     "output_type": "execute_result"
    }
   ],
   "source": [
    "# converting genre column to a numpy array, and using the np.mean() method to find the average genre score\n",
    "\n",
    "genre_pop_array = data_by_genres['popularity'].to_numpy() \n",
    "\n",
    "np.mean(genre_pop_array)"
   ]
  },
  {
   "cell_type": "markdown",
   "metadata": {
    "id": "dfZbK-bWZcgY"
   },
   "source": [
    "The average **genre** popularity score is 29.7!"
   ]
  },
  {
   "cell_type": "code",
   "execution_count": 13,
   "metadata": {
    "colab": {
     "base_uri": "https://localhost:8080/"
    },
    "id": "2GE_-sxMHHnH",
    "outputId": "0a43ebea-510c-4ecb-8ce8-ae89408b15bf"
   },
   "outputs": [
    {
     "name": "stdout",
     "output_type": "stream",
     "text": [
      "25.693380889849703\n"
     ]
    }
   ],
   "source": [
    "# finding the average popularity score using numpy\n",
    "\n",
    "pop_array = df1['popularity'].to_numpy() \n",
    "average = np.mean(pop_array)\n",
    "\n",
    "print(average)"
   ]
  },
  {
   "cell_type": "markdown",
   "metadata": {
    "id": "PRSTZ9FLHLaD"
   },
   "source": [
    "The average **song** popularity score is 25.7!"
   ]
  },
  {
   "cell_type": "code",
   "execution_count": 14,
   "metadata": {
    "colab": {
     "base_uri": "https://localhost:8080/"
    },
    "id": "9QJJXdigZ125",
    "outputId": "d16579cf-4fa7-4a3e-bd37-b54cdb32e085"
   },
   "outputs": [
    {
     "name": "stdout",
     "output_type": "stream",
     "text": [
      "                         name                   artists\n",
      "19862  Mood (feat. iann dior)     24kGoldn', 'iann dior\n",
      "19866               positions             Ariana Grande\n",
      "19886                  DÁKITI  Bad Bunny', 'Jhay Cortez\n",
      "19976                 BICHOTA                   KAROL G\n",
      "20062         drivers license            Olivia Rodrigo\n"
     ]
    }
   ],
   "source": [
    "# finding the most popular songs by filtering the songs with a popularity score of 95 or above\n",
    "\n",
    "popular_songs = df1.loc[df1['popularity'] >= 95] \n",
    "\n",
    "p_songs = pd.DataFrame(popular_songs)\n",
    "\n",
    "print(p_songs[['name', 'artists']])"
   ]
  },
  {
   "cell_type": "markdown",
   "metadata": {
    "id": "7NHoGZSCcNAv"
   },
   "source": [
    "Mood by 24kGoldn, Positions by Ariana Grande, and DÁKITI by Karol G are the most popular songs!"
   ]
  },
  {
   "cell_type": "code",
   "execution_count": 15,
   "metadata": {
    "id": "PAT5rkuPWREU"
   },
   "outputs": [],
   "source": [
    "# use numpy for data_by_year"
   ]
  },
  {
   "cell_type": "markdown",
   "metadata": {
    "id": "0BdThuJUdB8V"
   },
   "source": [
    "References:\n",
    "\n",
    "https://www.geeksforgeeks.org/different-ways-to-create-pandas-dataframe/\n",
    "https://www.geeksforgeeks.org/numpy-mean-in-python/\n"
   ]
  }
 ],
 "metadata": {
  "colab": {
   "collapsed_sections": [],
   "name": "Spotify_Draft.ipynb",
   "provenance": [],
   "toc_visible": true
  },
  "kernelspec": {
   "display_name": "Python 3",
   "language": "python",
   "name": "python3"
  },
  "language_info": {
   "codemirror_mode": {
    "name": "ipython",
    "version": 3
   },
   "file_extension": ".py",
   "mimetype": "text/x-python",
   "name": "python",
   "nbconvert_exporter": "python",
   "pygments_lexer": "ipython3",
   "version": "3.7.3"
  }
 },
 "nbformat": 4,
 "nbformat_minor": 1
}
