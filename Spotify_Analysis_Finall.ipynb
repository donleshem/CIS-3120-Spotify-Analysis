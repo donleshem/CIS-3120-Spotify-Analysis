{
 "cells": [
  {
   "cell_type": "markdown",
   "metadata": {
    "id": "-QglWmrydOsL"
   },
   "source": [
    "### **Group 7 Project - Spotify Analysis**\n",
    "\n",
    "Yosef Friedman - yosef.friedman@baruchmail.cuny.edu\n",
    "\n",
    "Don Leshem - don.leshem@baruchmail.cuny.edu\n",
    "\n",
    "Samantha Tavares - samantha.tavares@baruchmail.cuny.edu "
   ]
  },
  {
   "cell_type": "markdown",
   "metadata": {
    "id": "5IsGqZiHW99G"
   },
   "source": [
    "We will be analyzing Spotify's catalog data for our project. We will gather various datasets and summarize and analyze Spotify's data. We will do exploratory analysis to look at popular songs, user playlists, and other information to build reports and analyze what songs and artists are most popular, and visualize our findings.\n",
    "\n",
    "Datasets Used: kaggle.com/yamaerenay/spotify-dataset-19212020-160k-tracks\n",
    "Github Repository: github.com/donleshem/CIS-3120-Spotify-Analysis"
   ]
  },
  {
   "cell_type": "markdown",
   "metadata": {
    "id": "3why6yscqqsF"
   },
   "source": [
    "# Data Importing"
   ]
  },
  {
   "cell_type": "code",
   "execution_count": 1,
   "metadata": {
    "id": "on9rOLSXE8OA"
   },
   "outputs": [],
   "source": [
    "# importing libraries \n",
    "\n",
    "import pandas as pd\n",
    "import numpy as np\n",
    "import requests\n",
    "from bs4 import BeautifulSoup\n",
    "import plotly.express as px\n",
    "import matplotlib.pyplot as plt\n",
    "import os"
   ]
  },
  {
   "cell_type": "markdown",
   "metadata": {
    "id": "rnpuic87QMUn"
   },
   "source": [
    "# Part 1: Web Scraping"
   ]
  },
  {
   "cell_type": "code",
   "execution_count": 2,
   "metadata": {
    "id": "a0-amit7EAxB"
   },
   "outputs": [],
   "source": [
    "# scraping Wikipedia to get the list of the most listened to artist listed \n",
    "\n",
    "response_url = 'https://en.wikipedia.org/wiki/List_of_most-streamed_artists_on_Spotify'\n",
    "\n",
    "response = requests.get(response_url)\n",
    "\n",
    "soup = BeautifulSoup(response.text, 'html.parser')"
   ]
  },
  {
   "cell_type": "code",
   "execution_count": 3,
   "metadata": {
    "colab": {
     "base_uri": "https://localhost:8080/",
     "height": 202
    },
    "id": "ifNI9NkwEAxB",
    "outputId": "0d68e1bb-5fce-486f-d0bc-8228309177d3"
   },
   "outputs": [
    {
     "data": {
      "text/html": [
       "<div>\n",
       "<style scoped>\n",
       "    .dataframe tbody tr th:only-of-type {\n",
       "        vertical-align: middle;\n",
       "    }\n",
       "\n",
       "    .dataframe tbody tr th {\n",
       "        vertical-align: top;\n",
       "    }\n",
       "\n",
       "    .dataframe thead th {\n",
       "        text-align: right;\n",
       "    }\n",
       "</style>\n",
       "<table border=\"1\" class=\"dataframe\">\n",
       "  <thead>\n",
       "    <tr style=\"text-align: right;\">\n",
       "      <th></th>\n",
       "      <th>Rank</th>\n",
       "      <th>Artist</th>\n",
       "      <th>Monthly listeners(millions)</th>\n",
       "      <th>Chg</th>\n",
       "      <th>Ref(s)</th>\n",
       "      <th>Unnamed: 5</th>\n",
       "    </tr>\n",
       "  </thead>\n",
       "  <tbody>\n",
       "    <tr>\n",
       "      <th>0</th>\n",
       "      <td>1</td>\n",
       "      <td>Justin Bieber</td>\n",
       "      <td>76.74</td>\n",
       "      <td>NaN</td>\n",
       "      <td>[1]</td>\n",
       "      <td>NaN</td>\n",
       "    </tr>\n",
       "    <tr>\n",
       "      <th>1</th>\n",
       "      <td>2</td>\n",
       "      <td>The Weeknd</td>\n",
       "      <td>68.89</td>\n",
       "      <td>NaN</td>\n",
       "      <td>[2]</td>\n",
       "      <td>NaN</td>\n",
       "    </tr>\n",
       "    <tr>\n",
       "      <th>2</th>\n",
       "      <td>3</td>\n",
       "      <td>Dua Lipa</td>\n",
       "      <td>63.90</td>\n",
       "      <td>NaN</td>\n",
       "      <td>[3]</td>\n",
       "      <td>NaN</td>\n",
       "    </tr>\n",
       "    <tr>\n",
       "      <th>3</th>\n",
       "      <td>4</td>\n",
       "      <td>Bruno Mars</td>\n",
       "      <td>56.28</td>\n",
       "      <td>NaN</td>\n",
       "      <td>[4]</td>\n",
       "      <td>NaN</td>\n",
       "    </tr>\n",
       "    <tr>\n",
       "      <th>4</th>\n",
       "      <td>5</td>\n",
       "      <td>Ariana Grande</td>\n",
       "      <td>55.72</td>\n",
       "      <td>NaN</td>\n",
       "      <td>[5]</td>\n",
       "      <td>NaN</td>\n",
       "    </tr>\n",
       "  </tbody>\n",
       "</table>\n",
       "</div>"
      ],
      "text/plain": [
       "  Rank         Artist Monthly listeners(millions)  Chg Ref(s) Unnamed: 5\n",
       "0    1  Justin Bieber                       76.74  NaN    [1]        NaN\n",
       "1    2     The Weeknd                       68.89  NaN    [2]        NaN\n",
       "2    3       Dua Lipa                       63.90  NaN    [3]        NaN\n",
       "3    4     Bruno Mars                       56.28  NaN    [4]        NaN\n",
       "4    5  Ariana Grande                       55.72  NaN    [5]        NaN"
      ]
     },
     "execution_count": 3,
     "metadata": {},
     "output_type": "execute_result"
    }
   ],
   "source": [
    "# reading the page data and extracting the first table on the page \n",
    "\n",
    "wiki_tables = pd.read_html(response_url)\n",
    "\n",
    "most_listend_df = wiki_tables[1]\n",
    "\n",
    "most_listend_df.head()"
   ]
  },
  {
   "cell_type": "code",
   "execution_count": 4,
   "metadata": {},
   "outputs": [
    {
     "data": {
      "text/html": [
       "<div>\n",
       "<style scoped>\n",
       "    .dataframe tbody tr th:only-of-type {\n",
       "        vertical-align: middle;\n",
       "    }\n",
       "\n",
       "    .dataframe tbody tr th {\n",
       "        vertical-align: top;\n",
       "    }\n",
       "\n",
       "    .dataframe thead th {\n",
       "        text-align: right;\n",
       "    }\n",
       "</style>\n",
       "<table border=\"1\" class=\"dataframe\">\n",
       "  <thead>\n",
       "    <tr style=\"text-align: right;\">\n",
       "      <th></th>\n",
       "      <th>Rank</th>\n",
       "      <th>Artist</th>\n",
       "      <th>Monthly listeners(millions)</th>\n",
       "    </tr>\n",
       "  </thead>\n",
       "  <tbody>\n",
       "    <tr>\n",
       "      <th>0</th>\n",
       "      <td>1</td>\n",
       "      <td>Justin Bieber</td>\n",
       "      <td>76.74</td>\n",
       "    </tr>\n",
       "    <tr>\n",
       "      <th>1</th>\n",
       "      <td>2</td>\n",
       "      <td>The Weeknd</td>\n",
       "      <td>68.89</td>\n",
       "    </tr>\n",
       "    <tr>\n",
       "      <th>2</th>\n",
       "      <td>3</td>\n",
       "      <td>Dua Lipa</td>\n",
       "      <td>63.90</td>\n",
       "    </tr>\n",
       "    <tr>\n",
       "      <th>3</th>\n",
       "      <td>4</td>\n",
       "      <td>Bruno Mars</td>\n",
       "      <td>56.28</td>\n",
       "    </tr>\n",
       "    <tr>\n",
       "      <th>4</th>\n",
       "      <td>5</td>\n",
       "      <td>Ariana Grande</td>\n",
       "      <td>55.72</td>\n",
       "    </tr>\n",
       "  </tbody>\n",
       "</table>\n",
       "</div>"
      ],
      "text/plain": [
       "  Rank         Artist Monthly listeners(millions)\n",
       "0    1  Justin Bieber                       76.74\n",
       "1    2     The Weeknd                       68.89\n",
       "2    3       Dua Lipa                       63.90\n",
       "3    4     Bruno Mars                       56.28\n",
       "4    5  Ariana Grande                       55.72"
      ]
     },
     "execution_count": 4,
     "metadata": {},
     "output_type": "execute_result"
    }
   ],
   "source": [
    "# dropping columns we don't need for the analysis\n",
    "\n",
    "most_listend_df = most_listend_df.drop(columns = ['Chg', 'Ref(s)', 'Unnamed: 5'])\n",
    "most_listend_df.head()"
   ]
  },
  {
   "cell_type": "code",
   "execution_count": 5,
   "metadata": {},
   "outputs": [
    {
     "data": {
      "text/html": [
       "<div>\n",
       "<style scoped>\n",
       "    .dataframe tbody tr th:only-of-type {\n",
       "        vertical-align: middle;\n",
       "    }\n",
       "\n",
       "    .dataframe tbody tr th {\n",
       "        vertical-align: top;\n",
       "    }\n",
       "\n",
       "    .dataframe thead th {\n",
       "        text-align: right;\n",
       "    }\n",
       "</style>\n",
       "<table border=\"1\" class=\"dataframe\">\n",
       "  <thead>\n",
       "    <tr style=\"text-align: right;\">\n",
       "      <th></th>\n",
       "      <th>Rank</th>\n",
       "      <th>Artist</th>\n",
       "      <th>Monthly listeners(millions)</th>\n",
       "    </tr>\n",
       "  </thead>\n",
       "  <tbody>\n",
       "    <tr>\n",
       "      <th>count</th>\n",
       "      <td>21</td>\n",
       "      <td>21</td>\n",
       "      <td>21</td>\n",
       "    </tr>\n",
       "    <tr>\n",
       "      <th>unique</th>\n",
       "      <td>21</td>\n",
       "      <td>21</td>\n",
       "      <td>21</td>\n",
       "    </tr>\n",
       "    <tr>\n",
       "      <th>top</th>\n",
       "      <td>12</td>\n",
       "      <td>Giveon</td>\n",
       "      <td>47.98</td>\n",
       "    </tr>\n",
       "    <tr>\n",
       "      <th>freq</th>\n",
       "      <td>1</td>\n",
       "      <td>1</td>\n",
       "      <td>1</td>\n",
       "    </tr>\n",
       "  </tbody>\n",
       "</table>\n",
       "</div>"
      ],
      "text/plain": [
       "       Rank  Artist Monthly listeners(millions)\n",
       "count    21      21                          21\n",
       "unique   21      21                          21\n",
       "top      12  Giveon                       47.98\n",
       "freq      1       1                           1"
      ]
     },
     "execution_count": 5,
     "metadata": {},
     "output_type": "execute_result"
    }
   ],
   "source": [
    "most_listend_df.describe()"
   ]
  },
  {
   "cell_type": "markdown",
   "metadata": {
    "id": "1uuU3fVkQY03"
   },
   "source": [
    "# Part 2 and 3: NumPy and Pandas, Data Combine, Merge, Load"
   ]
  },
  {
   "cell_type": "code",
   "execution_count": 6,
   "metadata": {
    "colab": {
     "base_uri": "https://localhost:8080/",
     "height": 413
    },
    "id": "XYNU8XZfQ3uL",
    "outputId": "47e85590-c14a-4ba9-f5b6-bba6244e6ec5"
   },
   "outputs": [],
   "source": [
    "# importing data\n",
    "\n",
    "# initially we made the first column the index, but we decided to use the default index instead\n",
    "\n",
    "df1 = pd.read_csv(\"data/data.csv\")\n",
    "\n",
    "data_by_genres = pd.read_csv(\"data/data_by_genres.csv\")\n",
    "\n",
    "data_by_year = pd.read_csv(\"data/data_by_year.csv\")\n",
    "\n",
    "data_with_genres = pd.read_csv(\"data/data_w_genres.csv\")"
   ]
  },
  {
   "cell_type": "code",
   "execution_count": 7,
   "metadata": {},
   "outputs": [
    {
     "data": {
      "text/html": [
       "<div>\n",
       "<style scoped>\n",
       "    .dataframe tbody tr th:only-of-type {\n",
       "        vertical-align: middle;\n",
       "    }\n",
       "\n",
       "    .dataframe tbody tr th {\n",
       "        vertical-align: top;\n",
       "    }\n",
       "\n",
       "    .dataframe thead th {\n",
       "        text-align: right;\n",
       "    }\n",
       "</style>\n",
       "<table border=\"1\" class=\"dataframe\">\n",
       "  <thead>\n",
       "    <tr style=\"text-align: right;\">\n",
       "      <th></th>\n",
       "      <th>acousticness</th>\n",
       "      <th>artists</th>\n",
       "      <th>danceability</th>\n",
       "      <th>duration_ms</th>\n",
       "      <th>energy</th>\n",
       "      <th>explicit</th>\n",
       "      <th>id</th>\n",
       "      <th>instrumentalness</th>\n",
       "      <th>key</th>\n",
       "      <th>liveness</th>\n",
       "      <th>loudness</th>\n",
       "      <th>mode</th>\n",
       "      <th>name</th>\n",
       "      <th>popularity</th>\n",
       "      <th>release_date</th>\n",
       "      <th>speechiness</th>\n",
       "      <th>tempo</th>\n",
       "      <th>valence</th>\n",
       "      <th>year</th>\n",
       "    </tr>\n",
       "  </thead>\n",
       "  <tbody>\n",
       "    <tr>\n",
       "      <th>0</th>\n",
       "      <td>0.991000</td>\n",
       "      <td>['Mamie Smith']</td>\n",
       "      <td>0.598</td>\n",
       "      <td>168333</td>\n",
       "      <td>0.224</td>\n",
       "      <td>0</td>\n",
       "      <td>0cS0A1fUEUd1EW3FcF8AEI</td>\n",
       "      <td>0.000522</td>\n",
       "      <td>5</td>\n",
       "      <td>0.3790</td>\n",
       "      <td>-12.628</td>\n",
       "      <td>0</td>\n",
       "      <td>Keep A Song In Your Soul</td>\n",
       "      <td>12</td>\n",
       "      <td>1920</td>\n",
       "      <td>0.0936</td>\n",
       "      <td>149.976</td>\n",
       "      <td>0.6340</td>\n",
       "      <td>1920</td>\n",
       "    </tr>\n",
       "    <tr>\n",
       "      <th>1</th>\n",
       "      <td>0.643000</td>\n",
       "      <td>[\"Screamin' Jay Hawkins\"]</td>\n",
       "      <td>0.852</td>\n",
       "      <td>150200</td>\n",
       "      <td>0.517</td>\n",
       "      <td>0</td>\n",
       "      <td>0hbkKFIJm7Z05H8Zl9w30f</td>\n",
       "      <td>0.026400</td>\n",
       "      <td>5</td>\n",
       "      <td>0.0809</td>\n",
       "      <td>-7.261</td>\n",
       "      <td>0</td>\n",
       "      <td>I Put A Spell On You</td>\n",
       "      <td>7</td>\n",
       "      <td>1920-01-05</td>\n",
       "      <td>0.0534</td>\n",
       "      <td>86.889</td>\n",
       "      <td>0.9500</td>\n",
       "      <td>1920</td>\n",
       "    </tr>\n",
       "    <tr>\n",
       "      <th>2</th>\n",
       "      <td>0.993000</td>\n",
       "      <td>['Mamie Smith']</td>\n",
       "      <td>0.647</td>\n",
       "      <td>163827</td>\n",
       "      <td>0.186</td>\n",
       "      <td>0</td>\n",
       "      <td>11m7laMUgmOKqI3oYzuhne</td>\n",
       "      <td>0.000018</td>\n",
       "      <td>0</td>\n",
       "      <td>0.5190</td>\n",
       "      <td>-12.098</td>\n",
       "      <td>1</td>\n",
       "      <td>Golfing Papa</td>\n",
       "      <td>4</td>\n",
       "      <td>1920</td>\n",
       "      <td>0.1740</td>\n",
       "      <td>97.600</td>\n",
       "      <td>0.6890</td>\n",
       "      <td>1920</td>\n",
       "    </tr>\n",
       "    <tr>\n",
       "      <th>3</th>\n",
       "      <td>0.000173</td>\n",
       "      <td>['Oscar Velazquez']</td>\n",
       "      <td>0.730</td>\n",
       "      <td>422087</td>\n",
       "      <td>0.798</td>\n",
       "      <td>0</td>\n",
       "      <td>19Lc5SfJJ5O1oaxY0fpwfh</td>\n",
       "      <td>0.801000</td>\n",
       "      <td>2</td>\n",
       "      <td>0.1280</td>\n",
       "      <td>-7.311</td>\n",
       "      <td>1</td>\n",
       "      <td>True House Music - Xavier Santos &amp; Carlos Gomi...</td>\n",
       "      <td>17</td>\n",
       "      <td>1920-01-01</td>\n",
       "      <td>0.0425</td>\n",
       "      <td>127.997</td>\n",
       "      <td>0.0422</td>\n",
       "      <td>1920</td>\n",
       "    </tr>\n",
       "    <tr>\n",
       "      <th>4</th>\n",
       "      <td>0.295000</td>\n",
       "      <td>['Mixe']</td>\n",
       "      <td>0.704</td>\n",
       "      <td>165224</td>\n",
       "      <td>0.707</td>\n",
       "      <td>1</td>\n",
       "      <td>2hJjbsLCytGsnAHfdsLejp</td>\n",
       "      <td>0.000246</td>\n",
       "      <td>10</td>\n",
       "      <td>0.4020</td>\n",
       "      <td>-6.036</td>\n",
       "      <td>0</td>\n",
       "      <td>Xuniverxe</td>\n",
       "      <td>2</td>\n",
       "      <td>1920-10-01</td>\n",
       "      <td>0.0768</td>\n",
       "      <td>122.076</td>\n",
       "      <td>0.2990</td>\n",
       "      <td>1920</td>\n",
       "    </tr>\n",
       "  </tbody>\n",
       "</table>\n",
       "</div>"
      ],
      "text/plain": [
       "   acousticness                    artists  danceability  duration_ms  energy  \\\n",
       "0      0.991000            ['Mamie Smith']         0.598       168333   0.224   \n",
       "1      0.643000  [\"Screamin' Jay Hawkins\"]         0.852       150200   0.517   \n",
       "2      0.993000            ['Mamie Smith']         0.647       163827   0.186   \n",
       "3      0.000173        ['Oscar Velazquez']         0.730       422087   0.798   \n",
       "4      0.295000                   ['Mixe']         0.704       165224   0.707   \n",
       "\n",
       "   explicit                      id  instrumentalness  key  liveness  \\\n",
       "0         0  0cS0A1fUEUd1EW3FcF8AEI          0.000522    5    0.3790   \n",
       "1         0  0hbkKFIJm7Z05H8Zl9w30f          0.026400    5    0.0809   \n",
       "2         0  11m7laMUgmOKqI3oYzuhne          0.000018    0    0.5190   \n",
       "3         0  19Lc5SfJJ5O1oaxY0fpwfh          0.801000    2    0.1280   \n",
       "4         1  2hJjbsLCytGsnAHfdsLejp          0.000246   10    0.4020   \n",
       "\n",
       "   loudness  mode                                               name  \\\n",
       "0   -12.628     0                           Keep A Song In Your Soul   \n",
       "1    -7.261     0                               I Put A Spell On You   \n",
       "2   -12.098     1                                       Golfing Papa   \n",
       "3    -7.311     1  True House Music - Xavier Santos & Carlos Gomi...   \n",
       "4    -6.036     0                                          Xuniverxe   \n",
       "\n",
       "   popularity release_date  speechiness    tempo  valence  year  \n",
       "0          12         1920       0.0936  149.976   0.6340  1920  \n",
       "1           7   1920-01-05       0.0534   86.889   0.9500  1920  \n",
       "2           4         1920       0.1740   97.600   0.6890  1920  \n",
       "3          17   1920-01-01       0.0425  127.997   0.0422  1920  \n",
       "4           2   1920-10-01       0.0768  122.076   0.2990  1920  "
      ]
     },
     "execution_count": 7,
     "metadata": {},
     "output_type": "execute_result"
    }
   ],
   "source": [
    "# df1:\n",
    "\n",
    "df1.head()"
   ]
  },
  {
   "cell_type": "code",
   "execution_count": 8,
   "metadata": {
    "colab": {
     "base_uri": "https://localhost:8080/",
     "height": 314
    },
    "id": "Y203PhT3S7vU",
    "outputId": "09d6a958-5262-4394-cd27-1dd6b2ceeaaa"
   },
   "outputs": [
    {
     "data": {
      "text/html": [
       "<div>\n",
       "<style scoped>\n",
       "    .dataframe tbody tr th:only-of-type {\n",
       "        vertical-align: middle;\n",
       "    }\n",
       "\n",
       "    .dataframe tbody tr th {\n",
       "        vertical-align: top;\n",
       "    }\n",
       "\n",
       "    .dataframe thead th {\n",
       "        text-align: right;\n",
       "    }\n",
       "</style>\n",
       "<table border=\"1\" class=\"dataframe\">\n",
       "  <thead>\n",
       "    <tr style=\"text-align: right;\">\n",
       "      <th></th>\n",
       "      <th>acousticness</th>\n",
       "      <th>danceability</th>\n",
       "      <th>duration_ms</th>\n",
       "      <th>energy</th>\n",
       "      <th>explicit</th>\n",
       "      <th>instrumentalness</th>\n",
       "      <th>key</th>\n",
       "      <th>liveness</th>\n",
       "      <th>loudness</th>\n",
       "      <th>mode</th>\n",
       "      <th>popularity</th>\n",
       "      <th>speechiness</th>\n",
       "      <th>tempo</th>\n",
       "      <th>valence</th>\n",
       "      <th>year</th>\n",
       "    </tr>\n",
       "  </thead>\n",
       "  <tbody>\n",
       "    <tr>\n",
       "      <th>count</th>\n",
       "      <td>174389.000000</td>\n",
       "      <td>174389.000000</td>\n",
       "      <td>1.743890e+05</td>\n",
       "      <td>174389.000000</td>\n",
       "      <td>174389.000000</td>\n",
       "      <td>174389.000000</td>\n",
       "      <td>174389.000000</td>\n",
       "      <td>174389.000000</td>\n",
       "      <td>174389.000000</td>\n",
       "      <td>174389.000000</td>\n",
       "      <td>174389.000000</td>\n",
       "      <td>174389.000000</td>\n",
       "      <td>174389.000000</td>\n",
       "      <td>174389.000000</td>\n",
       "      <td>174389.000000</td>\n",
       "    </tr>\n",
       "    <tr>\n",
       "      <th>mean</th>\n",
       "      <td>0.499228</td>\n",
       "      <td>0.536758</td>\n",
       "      <td>2.328100e+05</td>\n",
       "      <td>0.482721</td>\n",
       "      <td>0.068135</td>\n",
       "      <td>0.197252</td>\n",
       "      <td>5.205305</td>\n",
       "      <td>0.211123</td>\n",
       "      <td>-11.750865</td>\n",
       "      <td>0.702384</td>\n",
       "      <td>25.693381</td>\n",
       "      <td>0.105729</td>\n",
       "      <td>117.006500</td>\n",
       "      <td>0.524533</td>\n",
       "      <td>1977.061764</td>\n",
       "    </tr>\n",
       "    <tr>\n",
       "      <th>std</th>\n",
       "      <td>0.379936</td>\n",
       "      <td>0.176025</td>\n",
       "      <td>1.483958e+05</td>\n",
       "      <td>0.272685</td>\n",
       "      <td>0.251978</td>\n",
       "      <td>0.334574</td>\n",
       "      <td>3.518292</td>\n",
       "      <td>0.180493</td>\n",
       "      <td>5.691591</td>\n",
       "      <td>0.457211</td>\n",
       "      <td>21.872740</td>\n",
       "      <td>0.182260</td>\n",
       "      <td>30.254178</td>\n",
       "      <td>0.264477</td>\n",
       "      <td>26.907950</td>\n",
       "    </tr>\n",
       "    <tr>\n",
       "      <th>min</th>\n",
       "      <td>0.000000</td>\n",
       "      <td>0.000000</td>\n",
       "      <td>4.937000e+03</td>\n",
       "      <td>0.000000</td>\n",
       "      <td>0.000000</td>\n",
       "      <td>0.000000</td>\n",
       "      <td>0.000000</td>\n",
       "      <td>0.000000</td>\n",
       "      <td>-60.000000</td>\n",
       "      <td>0.000000</td>\n",
       "      <td>0.000000</td>\n",
       "      <td>0.000000</td>\n",
       "      <td>0.000000</td>\n",
       "      <td>0.000000</td>\n",
       "      <td>1920.000000</td>\n",
       "    </tr>\n",
       "    <tr>\n",
       "      <th>25%</th>\n",
       "      <td>0.087700</td>\n",
       "      <td>0.414000</td>\n",
       "      <td>1.661330e+05</td>\n",
       "      <td>0.249000</td>\n",
       "      <td>0.000000</td>\n",
       "      <td>0.000000</td>\n",
       "      <td>2.000000</td>\n",
       "      <td>0.099200</td>\n",
       "      <td>-14.908000</td>\n",
       "      <td>0.000000</td>\n",
       "      <td>1.000000</td>\n",
       "      <td>0.035200</td>\n",
       "      <td>93.931000</td>\n",
       "      <td>0.311000</td>\n",
       "      <td>1955.000000</td>\n",
       "    </tr>\n",
       "    <tr>\n",
       "      <th>50%</th>\n",
       "      <td>0.517000</td>\n",
       "      <td>0.548000</td>\n",
       "      <td>2.057870e+05</td>\n",
       "      <td>0.465000</td>\n",
       "      <td>0.000000</td>\n",
       "      <td>0.000524</td>\n",
       "      <td>5.000000</td>\n",
       "      <td>0.138000</td>\n",
       "      <td>-10.836000</td>\n",
       "      <td>1.000000</td>\n",
       "      <td>25.000000</td>\n",
       "      <td>0.045500</td>\n",
       "      <td>115.816000</td>\n",
       "      <td>0.536000</td>\n",
       "      <td>1977.000000</td>\n",
       "    </tr>\n",
       "    <tr>\n",
       "      <th>75%</th>\n",
       "      <td>0.895000</td>\n",
       "      <td>0.669000</td>\n",
       "      <td>2.657200e+05</td>\n",
       "      <td>0.711000</td>\n",
       "      <td>0.000000</td>\n",
       "      <td>0.252000</td>\n",
       "      <td>8.000000</td>\n",
       "      <td>0.270000</td>\n",
       "      <td>-7.499000</td>\n",
       "      <td>1.000000</td>\n",
       "      <td>42.000000</td>\n",
       "      <td>0.076300</td>\n",
       "      <td>135.011000</td>\n",
       "      <td>0.743000</td>\n",
       "      <td>1999.000000</td>\n",
       "    </tr>\n",
       "    <tr>\n",
       "      <th>max</th>\n",
       "      <td>0.996000</td>\n",
       "      <td>0.988000</td>\n",
       "      <td>5.338302e+06</td>\n",
       "      <td>1.000000</td>\n",
       "      <td>1.000000</td>\n",
       "      <td>1.000000</td>\n",
       "      <td>11.000000</td>\n",
       "      <td>1.000000</td>\n",
       "      <td>3.855000</td>\n",
       "      <td>1.000000</td>\n",
       "      <td>100.000000</td>\n",
       "      <td>0.971000</td>\n",
       "      <td>243.507000</td>\n",
       "      <td>1.000000</td>\n",
       "      <td>2021.000000</td>\n",
       "    </tr>\n",
       "  </tbody>\n",
       "</table>\n",
       "</div>"
      ],
      "text/plain": [
       "        acousticness   danceability   duration_ms         energy  \\\n",
       "count  174389.000000  174389.000000  1.743890e+05  174389.000000   \n",
       "mean        0.499228       0.536758  2.328100e+05       0.482721   \n",
       "std         0.379936       0.176025  1.483958e+05       0.272685   \n",
       "min         0.000000       0.000000  4.937000e+03       0.000000   \n",
       "25%         0.087700       0.414000  1.661330e+05       0.249000   \n",
       "50%         0.517000       0.548000  2.057870e+05       0.465000   \n",
       "75%         0.895000       0.669000  2.657200e+05       0.711000   \n",
       "max         0.996000       0.988000  5.338302e+06       1.000000   \n",
       "\n",
       "            explicit  instrumentalness            key       liveness  \\\n",
       "count  174389.000000     174389.000000  174389.000000  174389.000000   \n",
       "mean        0.068135          0.197252       5.205305       0.211123   \n",
       "std         0.251978          0.334574       3.518292       0.180493   \n",
       "min         0.000000          0.000000       0.000000       0.000000   \n",
       "25%         0.000000          0.000000       2.000000       0.099200   \n",
       "50%         0.000000          0.000524       5.000000       0.138000   \n",
       "75%         0.000000          0.252000       8.000000       0.270000   \n",
       "max         1.000000          1.000000      11.000000       1.000000   \n",
       "\n",
       "            loudness           mode     popularity    speechiness  \\\n",
       "count  174389.000000  174389.000000  174389.000000  174389.000000   \n",
       "mean      -11.750865       0.702384      25.693381       0.105729   \n",
       "std         5.691591       0.457211      21.872740       0.182260   \n",
       "min       -60.000000       0.000000       0.000000       0.000000   \n",
       "25%       -14.908000       0.000000       1.000000       0.035200   \n",
       "50%       -10.836000       1.000000      25.000000       0.045500   \n",
       "75%        -7.499000       1.000000      42.000000       0.076300   \n",
       "max         3.855000       1.000000     100.000000       0.971000   \n",
       "\n",
       "               tempo        valence           year  \n",
       "count  174389.000000  174389.000000  174389.000000  \n",
       "mean      117.006500       0.524533    1977.061764  \n",
       "std        30.254178       0.264477      26.907950  \n",
       "min         0.000000       0.000000    1920.000000  \n",
       "25%        93.931000       0.311000    1955.000000  \n",
       "50%       115.816000       0.536000    1977.000000  \n",
       "75%       135.011000       0.743000    1999.000000  \n",
       "max       243.507000       1.000000    2021.000000  "
      ]
     },
     "execution_count": 8,
     "metadata": {},
     "output_type": "execute_result"
    }
   ],
   "source": [
    "#df1s describe:\n",
    "\n",
    "df1.describe()"
   ]
  },
  {
   "cell_type": "code",
   "execution_count": 9,
   "metadata": {
    "id": "sqkSrPXFIMh3"
   },
   "outputs": [
    {
     "data": {
      "text/html": [
       "<div>\n",
       "<style scoped>\n",
       "    .dataframe tbody tr th:only-of-type {\n",
       "        vertical-align: middle;\n",
       "    }\n",
       "\n",
       "    .dataframe tbody tr th {\n",
       "        vertical-align: top;\n",
       "    }\n",
       "\n",
       "    .dataframe thead th {\n",
       "        text-align: right;\n",
       "    }\n",
       "</style>\n",
       "<table border=\"1\" class=\"dataframe\">\n",
       "  <thead>\n",
       "    <tr style=\"text-align: right;\">\n",
       "      <th></th>\n",
       "      <th>acousticness</th>\n",
       "      <th>artists</th>\n",
       "      <th>danceability</th>\n",
       "      <th>duration_ms</th>\n",
       "      <th>energy</th>\n",
       "      <th>explicit</th>\n",
       "      <th>id</th>\n",
       "      <th>key</th>\n",
       "      <th>liveness</th>\n",
       "      <th>loudness</th>\n",
       "      <th>name</th>\n",
       "      <th>popularity</th>\n",
       "      <th>release_date</th>\n",
       "      <th>tempo</th>\n",
       "      <th>year</th>\n",
       "    </tr>\n",
       "  </thead>\n",
       "  <tbody>\n",
       "    <tr>\n",
       "      <th>0</th>\n",
       "      <td>0.991000</td>\n",
       "      <td>['Mamie Smith']</td>\n",
       "      <td>0.598</td>\n",
       "      <td>168333</td>\n",
       "      <td>0.224</td>\n",
       "      <td>0</td>\n",
       "      <td>0cS0A1fUEUd1EW3FcF8AEI</td>\n",
       "      <td>5</td>\n",
       "      <td>0.3790</td>\n",
       "      <td>-12.628</td>\n",
       "      <td>Keep A Song In Your Soul</td>\n",
       "      <td>12</td>\n",
       "      <td>1920</td>\n",
       "      <td>149.976</td>\n",
       "      <td>1920</td>\n",
       "    </tr>\n",
       "    <tr>\n",
       "      <th>1</th>\n",
       "      <td>0.643000</td>\n",
       "      <td>[\"Screamin' Jay Hawkins\"]</td>\n",
       "      <td>0.852</td>\n",
       "      <td>150200</td>\n",
       "      <td>0.517</td>\n",
       "      <td>0</td>\n",
       "      <td>0hbkKFIJm7Z05H8Zl9w30f</td>\n",
       "      <td>5</td>\n",
       "      <td>0.0809</td>\n",
       "      <td>-7.261</td>\n",
       "      <td>I Put A Spell On You</td>\n",
       "      <td>7</td>\n",
       "      <td>1920-01-05</td>\n",
       "      <td>86.889</td>\n",
       "      <td>1920</td>\n",
       "    </tr>\n",
       "    <tr>\n",
       "      <th>2</th>\n",
       "      <td>0.993000</td>\n",
       "      <td>['Mamie Smith']</td>\n",
       "      <td>0.647</td>\n",
       "      <td>163827</td>\n",
       "      <td>0.186</td>\n",
       "      <td>0</td>\n",
       "      <td>11m7laMUgmOKqI3oYzuhne</td>\n",
       "      <td>0</td>\n",
       "      <td>0.5190</td>\n",
       "      <td>-12.098</td>\n",
       "      <td>Golfing Papa</td>\n",
       "      <td>4</td>\n",
       "      <td>1920</td>\n",
       "      <td>97.600</td>\n",
       "      <td>1920</td>\n",
       "    </tr>\n",
       "    <tr>\n",
       "      <th>3</th>\n",
       "      <td>0.000173</td>\n",
       "      <td>['Oscar Velazquez']</td>\n",
       "      <td>0.730</td>\n",
       "      <td>422087</td>\n",
       "      <td>0.798</td>\n",
       "      <td>0</td>\n",
       "      <td>19Lc5SfJJ5O1oaxY0fpwfh</td>\n",
       "      <td>2</td>\n",
       "      <td>0.1280</td>\n",
       "      <td>-7.311</td>\n",
       "      <td>True House Music - Xavier Santos &amp; Carlos Gomi...</td>\n",
       "      <td>17</td>\n",
       "      <td>1920-01-01</td>\n",
       "      <td>127.997</td>\n",
       "      <td>1920</td>\n",
       "    </tr>\n",
       "    <tr>\n",
       "      <th>4</th>\n",
       "      <td>0.295000</td>\n",
       "      <td>['Mixe']</td>\n",
       "      <td>0.704</td>\n",
       "      <td>165224</td>\n",
       "      <td>0.707</td>\n",
       "      <td>1</td>\n",
       "      <td>2hJjbsLCytGsnAHfdsLejp</td>\n",
       "      <td>10</td>\n",
       "      <td>0.4020</td>\n",
       "      <td>-6.036</td>\n",
       "      <td>Xuniverxe</td>\n",
       "      <td>2</td>\n",
       "      <td>1920-10-01</td>\n",
       "      <td>122.076</td>\n",
       "      <td>1920</td>\n",
       "    </tr>\n",
       "  </tbody>\n",
       "</table>\n",
       "</div>"
      ],
      "text/plain": [
       "   acousticness                    artists  danceability  duration_ms  energy  \\\n",
       "0      0.991000            ['Mamie Smith']         0.598       168333   0.224   \n",
       "1      0.643000  [\"Screamin' Jay Hawkins\"]         0.852       150200   0.517   \n",
       "2      0.993000            ['Mamie Smith']         0.647       163827   0.186   \n",
       "3      0.000173        ['Oscar Velazquez']         0.730       422087   0.798   \n",
       "4      0.295000                   ['Mixe']         0.704       165224   0.707   \n",
       "\n",
       "   explicit                      id  key  liveness  loudness  \\\n",
       "0         0  0cS0A1fUEUd1EW3FcF8AEI    5    0.3790   -12.628   \n",
       "1         0  0hbkKFIJm7Z05H8Zl9w30f    5    0.0809    -7.261   \n",
       "2         0  11m7laMUgmOKqI3oYzuhne    0    0.5190   -12.098   \n",
       "3         0  19Lc5SfJJ5O1oaxY0fpwfh    2    0.1280    -7.311   \n",
       "4         1  2hJjbsLCytGsnAHfdsLejp   10    0.4020    -6.036   \n",
       "\n",
       "                                                name  popularity release_date  \\\n",
       "0                           Keep A Song In Your Soul          12         1920   \n",
       "1                               I Put A Spell On You           7   1920-01-05   \n",
       "2                                       Golfing Papa           4         1920   \n",
       "3  True House Music - Xavier Santos & Carlos Gomi...          17   1920-01-01   \n",
       "4                                          Xuniverxe           2   1920-10-01   \n",
       "\n",
       "     tempo  year  \n",
       "0  149.976  1920  \n",
       "1   86.889  1920  \n",
       "2   97.600  1920  \n",
       "3  127.997  1920  \n",
       "4  122.076  1920  "
      ]
     },
     "execution_count": 9,
     "metadata": {},
     "output_type": "execute_result"
    }
   ],
   "source": [
    "# dropping columns we don't need for the analysis in df1:\n",
    "\n",
    "df1 = df1.drop(columns = ['valence', 'mode', 'speechiness', 'instrumentalness'])\n",
    "df1.head()"
   ]
  },
  {
   "cell_type": "code",
   "execution_count": 10,
   "metadata": {
    "colab": {
     "base_uri": "https://localhost:8080/"
    },
    "id": "0b5Kid8erU9g",
    "outputId": "a9c20880-90b5-4464-e651-72bd19073838"
   },
   "outputs": [
    {
     "name": "stdout",
     "output_type": "stream",
     "text": [
      "0\n"
     ]
    }
   ],
   "source": [
    "# checking for NaN values:\n",
    "\n",
    "print(df1.isna().values.sum())"
   ]
  },
  {
   "cell_type": "markdown",
   "metadata": {
    "id": "26Sba8GtJLM2"
   },
   "source": [
    "There are duplicate songs on the list..."
   ]
  },
  {
   "cell_type": "code",
   "execution_count": 11,
   "metadata": {
    "colab": {
     "base_uri": "https://localhost:8080/"
    },
    "id": "_ZHHh0vpHsP-",
    "outputId": "f336496c-9828-4de8-e70c-f9510920d0a8"
   },
   "outputs": [
    {
     "data": {
      "text/plain": [
       "White Christmas                                                                                                   103\n",
       "Winter Wonderland                                                                                                  88\n",
       "Silent Night                                                                                                       81\n",
       "Jingle Bells                                                                                                       71\n",
       "2000 Years                                                                                                         70\n",
       "Happy New Year                                                                                                     57\n",
       "Sleigh Ride                                                                                                        54\n",
       "Summertime                                                                                                         53\n",
       "The Christmas Song                                                                                                 51\n",
       "Silver Bells                                                                                                       51\n",
       "Overture                                                                                                           49\n",
       "O Holy Night                                                                                                       48\n",
       "99 Year Blues                                                                                                      45\n",
       "Ave Maria                                                                                                          39\n",
       "It's the Most Wonderful Time of the Year                                                                           39\n",
       "My Only Wish (This Year)                                                                                           38\n",
       "7 Years                                                                                                            36\n",
       "Have Yourself a Merry Little Christmas                                                                             36\n",
       "Blue Christmas                                                                                                     34\n",
       "Hark! The Herald Angels Sing                                                                                       34\n",
       "Stay                                                                                                               34\n",
       "Have Yourself A Merry Little Christmas                                                                             34\n",
       "Stardust                                                                                                           33\n",
       "New Years Day - Original Mix                                                                                       32\n",
       "I Love You                                                                                                         31\n",
       "Santa Claus Is Coming To Town                                                                                      31\n",
       "Autumn Leaves                                                                                                      30\n",
       "The First Noel                                                                                                     29\n",
       "The Little Drummer Boy                                                                                             28\n",
       "Time After Time                                                                                                    28\n",
       "                                                                                                                 ... \n",
       "Wiegenlied, Op.49, No.4                                                                                             1\n",
       "Be Still and Know                                                                                                   1\n",
       "Superstition - Single Version                                                                                       1\n",
       "Like a Virgin - Extended Dance Remix                                                                                1\n",
       "Who Slapped John?                                                                                                   1\n",
       "君に、胸キュン。-浮気なヴァカンス-                                                                                                  1\n",
       "Dollar Bill                                                                                                         1\n",
       "Eleven Years of Song a Day                                                                                          1\n",
       "The Blood Tambours (From \"Bloodgate\") [2015]                                                                        1\n",
       "The Prisoner - 2015 Remaster                                                                                        1\n",
       "Firehouse                                                                                                           1\n",
       "Oh, Candy                                                                                                           1\n",
       "Maldito Amor                                                                                                        1\n",
       "O Thanasoulas                                                                                                       1\n",
       "Similar Features                                                                                                    1\n",
       "Everything I Have Is Yours - 10'' Version                                                                           1\n",
       "Don't Doubt Yourself, Babe                                                                                          1\n",
       "Sometimes Always                                                                                                    1\n",
       "Luxurious                                                                                                           1\n",
       "Chapter 16.3 - Kariera Nikodema Dyzmy                                                                               1\n",
       "No Time for Talk                                                                                                    1\n",
       "Openings                                                                                                            1\n",
       "The Nashville Jump - Buddha Remastered - 2000                                                                       1\n",
       "Sandia Calada - Remasterizado                                                                                       1\n",
       "Move Into Light                                                                                                     1\n",
       "But Not for Me (feat. Jason Aquila)                                                                                 1\n",
       "Akasher Aarshite Bhai                                                                                               1\n",
       "I Don't Believe You (She Acts Like We Never Have Met) - Live at Free Trade Hall, Manchester, UK - May 17, 1966      1\n",
       "Часть 123.2 - Триумфальная арка                                                                                     1\n",
       "Ridin' Into Love                                                                                                    1\n",
       "Name: name, Length: 137013, dtype: int64"
      ]
     },
     "execution_count": 11,
     "metadata": {},
     "output_type": "execute_result"
    }
   ],
   "source": [
    "df1['name'].value_counts()"
   ]
  },
  {
   "cell_type": "code",
   "execution_count": 12,
   "metadata": {
    "colab": {
     "base_uri": "https://localhost:8080/"
    },
    "id": "QTEEWhRmHUIH",
    "outputId": "fea8bcd9-a50d-466a-b50c-256466c27b31"
   },
   "outputs": [
    {
     "data": {
      "text/plain": [
       "['Tadeusz Dolega Mostowicz']      1281\n",
       "['Эрнест Хемингуэй']              1175\n",
       "['Эрих Мария Ремарк']             1062\n",
       "['Francisco Canaro']               951\n",
       "['Ignacio Corsini']                624\n",
       "['Frank Sinatra']                  621\n",
       "['Elvis Presley']                  494\n",
       "['Bob Dylan']                      459\n",
       "['Francisco Canaro', 'Charlo']     456\n",
       "['Johnny Cash']                    456\n",
       "Name: artists, dtype: int64"
      ]
     },
     "execution_count": 12,
     "metadata": {},
     "output_type": "execute_result"
    }
   ],
   "source": [
    "# most prolific artists\n",
    "\n",
    "df1['artists'].value_counts().nlargest(10)"
   ]
  },
  {
   "cell_type": "markdown",
   "metadata": {
    "id": "nPnq-PEGdTww"
   },
   "source": [
    "In the above list of artists:\n",
    "- We need to remove the brackets and apostrophes\n",
    "- Francisco Canaro comes up twice. We need to replace ['Francisco Canaro', 'Charlo'] with ['Francisco Canaro']"
   ]
  },
  {
   "cell_type": "code",
   "execution_count": 13,
   "metadata": {
    "colab": {
     "base_uri": "https://localhost:8080/"
    },
    "id": "fLh0V6Dbdm-b",
    "outputId": "ed1ce458-0879-4e08-e3ee-a00f74a76900"
   },
   "outputs": [
    {
     "name": "stdout",
     "output_type": "stream",
     "text": [
      "Tadeusz Dolega Mostowicz    1281\n",
      "Эрнест Хемингуэй            1175\n",
      "Эрих Мария Ремарк           1062\n",
      "Francisco Canaro             951\n",
      "Ignacio Corsini              624\n",
      "Name: artists, dtype: int64\n"
     ]
    }
   ],
   "source": [
    "# removing the brackets and apostrophes\n",
    "\n",
    "df1['artists']= df1['artists'].str.strip('[')\n",
    "df1['artists']= df1['artists'].str.strip(']')\n",
    "df1['artists']= df1['artists'].str.strip(\"'\")\n",
    "df1['artists']= df1['artists'].str.strip(\"'\")\n",
    "\n",
    "print(df1['artists'].value_counts().nlargest(5))"
   ]
  },
  {
   "cell_type": "code",
   "execution_count": 14,
   "metadata": {
    "id": "s1enxpU1kTUb"
   },
   "outputs": [],
   "source": [
    "# Replacing **Francisco Canaro', 'Charlo** with **Francisco Canaro** to get an accurate count \n",
    "\n",
    "df1 = df1.replace({'artists': \"Francisco Canaro', 'Charlo\"}, {'artists': 'Francisco Canaro'})"
   ]
  },
  {
   "cell_type": "markdown",
   "metadata": {
    "id": "c_-ahkusk7tW"
   },
   "source": [
    "Now that we cleaned the data a bit, we can see that Francisco Canaro is actually the most popular artist!"
   ]
  },
  {
   "cell_type": "code",
   "execution_count": 15,
   "metadata": {
    "colab": {
     "base_uri": "https://localhost:8080/"
    },
    "id": "bF0rRWLais1Y",
    "outputId": "f401135d-93b8-4547-e14d-17a576b18b4f"
   },
   "outputs": [
    {
     "name": "stdout",
     "output_type": "stream",
     "text": [
      "Francisco Canaro            1407\n",
      "Tadeusz Dolega Mostowicz    1281\n",
      "Эрнест Хемингуэй            1175\n",
      "Эрих Мария Ремарк           1062\n",
      "Ignacio Corsini              624\n",
      "Frank Sinatra                621\n",
      "Elvis Presley                494\n",
      "Bob Dylan                    459\n",
      "Johnny Cash                  456\n",
      "Fleetwood Mac                450\n",
      "Name: artists, dtype: int64\n"
     ]
    }
   ],
   "source": [
    "print(df1['artists'].value_counts().nlargest(10))"
   ]
  },
  {
   "cell_type": "code",
   "execution_count": 16,
   "metadata": {
    "colab": {
     "base_uri": "https://localhost:8080/"
    },
    "id": "mhRnYqB3KFx4",
    "outputId": "9dcc578d-815c-4d1e-be1c-35a79ce3cd69"
   },
   "outputs": [
    {
     "name": "stdout",
     "output_type": "stream",
     "text": [
      "                 genres  acousticness  danceability  duration_ms  energy  \\\n",
      "565  chinese electropop       0.00257          0.66     217088.0   0.787   \n",
      "\n",
      "     instrumentalness  liveness  loudness  speechiness    tempo  valence  \\\n",
      "565               0.0     0.323    -4.592        0.032  142.018    0.199   \n",
      "\n",
      "     popularity  key  mode  \n",
      "565        79.0    1     0  \n"
     ]
    }
   ],
   "source": [
    "# finding the max popularity score\n",
    "\n",
    "data_by_genres['popularity'].max()\n",
    "\n",
    "# filtering out which genre(s) have the max score\n",
    "\n",
    "popular_genres = data_by_genres.loc[data_by_genres['popularity'] == 79.0] \n",
    "\n",
    "print(popular_genres)"
   ]
  },
  {
   "cell_type": "markdown",
   "metadata": {
    "id": "iXAlW2aOO7AP"
   },
   "source": [
    "The most popular genre is chinese electropop!"
   ]
  },
  {
   "cell_type": "code",
   "execution_count": 17,
   "metadata": {
    "colab": {
     "base_uri": "https://localhost:8080/"
    },
    "id": "ZN4upSpFZXjT",
    "outputId": "8a1dec9c-aad4-4bf6-db7f-b60f95f1dfd5"
   },
   "outputs": [
    {
     "data": {
      "text/plain": [
       "29.701617819589185"
      ]
     },
     "execution_count": 17,
     "metadata": {},
     "output_type": "execute_result"
    }
   ],
   "source": [
    "# converting genre column to a numpy array, and using the np.mean() method to find the average genre score\n",
    "\n",
    "genre_pop_array = data_by_genres['popularity'].to_numpy() \n",
    "\n",
    "np.mean(genre_pop_array)"
   ]
  },
  {
   "cell_type": "markdown",
   "metadata": {
    "id": "dfZbK-bWZcgY"
   },
   "source": [
    "The average **genre** popularity score is 29.7!"
   ]
  },
  {
   "cell_type": "code",
   "execution_count": 18,
   "metadata": {
    "colab": {
     "base_uri": "https://localhost:8080/"
    },
    "id": "2GE_-sxMHHnH",
    "outputId": "c6fdf754-e66c-40c7-cebc-1bfb0216471d"
   },
   "outputs": [
    {
     "name": "stdout",
     "output_type": "stream",
     "text": [
      "25.693380889849703\n"
     ]
    }
   ],
   "source": [
    "# finding the average popularity score using numpy\n",
    "\n",
    "pop_array = df1['popularity'].to_numpy() \n",
    "\n",
    "average = np.mean(pop_array)\n",
    "\n",
    "print(average)"
   ]
  },
  {
   "cell_type": "markdown",
   "metadata": {
    "id": "PRSTZ9FLHLaD"
   },
   "source": [
    "The average **song** popularity score is 25.7!"
   ]
  },
  {
   "cell_type": "code",
   "execution_count": 19,
   "metadata": {
    "colab": {
     "base_uri": "https://localhost:8080/"
    },
    "id": "9QJJXdigZ125",
    "outputId": "f430b82a-d179-4418-ca40-817206a96ed2"
   },
   "outputs": [
    {
     "name": "stdout",
     "output_type": "stream",
     "text": [
      "                         name                   artists\n",
      "19862  Mood (feat. iann dior)     24kGoldn', 'iann dior\n",
      "19866               positions             Ariana Grande\n",
      "19886                  DÁKITI  Bad Bunny', 'Jhay Cortez\n",
      "19976                 BICHOTA                   KAROL G\n",
      "20062         drivers license            Olivia Rodrigo\n"
     ]
    }
   ],
   "source": [
    "# finding the most popular songs by filtering the songs with a popularity score of 95 or above\n",
    "\n",
    "popular_songs = df1.loc[df1['popularity'] >= 95] \n",
    "\n",
    "p_songs = pd.DataFrame(popular_songs)\n",
    "\n",
    "print(p_songs[['name', 'artists']])"
   ]
  },
  {
   "cell_type": "markdown",
   "metadata": {
    "id": "7NHoGZSCcNAv"
   },
   "source": [
    "Mood by 24kGoldn, Positions by Ariana Grande, and DÁKITI by Karol G are the most popular songs!"
   ]
  },
  {
   "cell_type": "markdown",
   "metadata": {
    "id": "y_HC2mkbSEk4"
   },
   "source": [
    "# Part 4A: Aggregation"
   ]
  },
  {
   "cell_type": "code",
   "execution_count": 20,
   "metadata": {
    "colab": {
     "base_uri": "https://localhost:8080/",
     "height": 202
    },
    "id": "Mtp_7SkTSUIz",
    "outputId": "8fc3b562-8b90-424a-8a5c-7d7e33329a20"
   },
   "outputs": [
    {
     "data": {
      "text/html": [
       "<div>\n",
       "<style scoped>\n",
       "    .dataframe tbody tr th:only-of-type {\n",
       "        vertical-align: middle;\n",
       "    }\n",
       "\n",
       "    .dataframe tbody tr th {\n",
       "        vertical-align: top;\n",
       "    }\n",
       "\n",
       "    .dataframe thead th {\n",
       "        text-align: right;\n",
       "    }\n",
       "</style>\n",
       "<table border=\"1\" class=\"dataframe\">\n",
       "  <thead>\n",
       "    <tr style=\"text-align: right;\">\n",
       "      <th></th>\n",
       "      <th>artists</th>\n",
       "      <th>popularity</th>\n",
       "    </tr>\n",
       "  </thead>\n",
       "  <tbody>\n",
       "    <tr>\n",
       "      <th>4212</th>\n",
       "      <td>CJ</td>\n",
       "      <td>94.0</td>\n",
       "    </tr>\n",
       "    <tr>\n",
       "      <th>3767</th>\n",
       "      <td>Boza</td>\n",
       "      <td>92.0</td>\n",
       "    </tr>\n",
       "    <tr>\n",
       "      <th>13963</th>\n",
       "      <td>Joel Corry</td>\n",
       "      <td>91.0</td>\n",
       "    </tr>\n",
       "    <tr>\n",
       "      <th>14688</th>\n",
       "      <td>Juhn</td>\n",
       "      <td>91.0</td>\n",
       "    </tr>\n",
       "    <tr>\n",
       "      <th>23922</th>\n",
       "      <td>Ritt Momney</td>\n",
       "      <td>89.0</td>\n",
       "    </tr>\n",
       "  </tbody>\n",
       "</table>\n",
       "</div>"
      ],
      "text/plain": [
       "           artists  popularity\n",
       "4212            CJ        94.0\n",
       "3767          Boza        92.0\n",
       "13963   Joel Corry        91.0\n",
       "14688         Juhn        91.0\n",
       "23922  Ritt Momney        89.0"
      ]
     },
     "execution_count": 20,
     "metadata": {},
     "output_type": "execute_result"
    }
   ],
   "source": [
    "pd.set_option('display.max_columns', None)\n",
    "\n",
    "# grouping by artist and aggregating the mean popularity\n",
    "\n",
    "test = data_with_genres.groupby('artists', as_index=False)['popularity'].agg('mean')\n",
    "\n",
    "test = test.sort_values('popularity', ascending=False)\n",
    "\n",
    "test.head()"
   ]
  },
  {
   "cell_type": "markdown",
   "metadata": {
    "id": "1J5N5VX2EAxS"
   },
   "source": [
    "# Part 4B: Visualization"
   ]
  },
  {
   "cell_type": "code",
   "execution_count": 21,
   "metadata": {},
   "outputs": [],
   "source": [
    "# creating an images folder \n",
    "\n",
    "if not os.path.exists(\"images\"):\n",
    "    os.mkdir(\"images\")"
   ]
  },
  {
   "cell_type": "code",
   "execution_count": 29,
   "metadata": {},
   "outputs": [
    {
     "data": {
      "text/plain": [
       "Francisco Canaro            1407\n",
       "Tadeusz Dolega Mostowicz    1281\n",
       "Эрнест Хемингуэй            1175\n",
       "Эрих Мария Ремарк           1062\n",
       "Ignacio Corsini              624\n",
       "Name: artists, dtype: int64"
      ]
     },
     "execution_count": 29,
     "metadata": {},
     "output_type": "execute_result"
    }
   ],
   "source": [
    "# getting the information we need to plot the most prolific artists \n",
    "\n",
    "popular_artist_df = df1['artists'].value_counts().sort_values().nlargest(10)\n",
    "\n",
    "popular_artist_df.head()"
   ]
  },
  {
   "cell_type": "code",
   "execution_count": 30,
   "metadata": {},
   "outputs": [
    {
     "data": {
      "text/plain": [
       "pandas.core.series.Series"
      ]
     },
     "execution_count": 30,
     "metadata": {},
     "output_type": "execute_result"
    }
   ],
   "source": [
    "# checking what the data type is  \n",
    "\n",
    "type(popular_artist_df)"
   ]
  },
  {
   "cell_type": "code",
   "execution_count": 31,
   "metadata": {},
   "outputs": [
    {
     "data": {
      "text/html": [
       "<div>\n",
       "<style scoped>\n",
       "    .dataframe tbody tr th:only-of-type {\n",
       "        vertical-align: middle;\n",
       "    }\n",
       "\n",
       "    .dataframe tbody tr th {\n",
       "        vertical-align: top;\n",
       "    }\n",
       "\n",
       "    .dataframe thead th {\n",
       "        text-align: right;\n",
       "    }\n",
       "</style>\n",
       "<table border=\"1\" class=\"dataframe\">\n",
       "  <thead>\n",
       "    <tr style=\"text-align: right;\">\n",
       "      <th></th>\n",
       "      <th>artists</th>\n",
       "      <th>popularity</th>\n",
       "    </tr>\n",
       "  </thead>\n",
       "  <tbody>\n",
       "    <tr>\n",
       "      <th>0</th>\n",
       "      <td>Francisco Canaro</td>\n",
       "      <td>1407</td>\n",
       "    </tr>\n",
       "    <tr>\n",
       "      <th>1</th>\n",
       "      <td>Tadeusz Dolega Mostowicz</td>\n",
       "      <td>1281</td>\n",
       "    </tr>\n",
       "    <tr>\n",
       "      <th>2</th>\n",
       "      <td>Эрнест Хемингуэй</td>\n",
       "      <td>1175</td>\n",
       "    </tr>\n",
       "    <tr>\n",
       "      <th>3</th>\n",
       "      <td>Эрих Мария Ремарк</td>\n",
       "      <td>1062</td>\n",
       "    </tr>\n",
       "    <tr>\n",
       "      <th>4</th>\n",
       "      <td>Ignacio Corsini</td>\n",
       "      <td>624</td>\n",
       "    </tr>\n",
       "  </tbody>\n",
       "</table>\n",
       "</div>"
      ],
      "text/plain": [
       "                    artists  popularity\n",
       "0          Francisco Canaro        1407\n",
       "1  Tadeusz Dolega Mostowicz        1281\n",
       "2          Эрнест Хемингуэй        1175\n",
       "3         Эрих Мария Ремарк        1062\n",
       "4           Ignacio Corsini         624"
      ]
     },
     "execution_count": 31,
     "metadata": {},
     "output_type": "execute_result"
    }
   ],
   "source": [
    "# changing the data type to a data frame and changing the column names so we can plot\n",
    "\n",
    "popular_artist_df = popular_artist_df.to_frame()\n",
    "\n",
    "popular_artist_df.reset_index(inplace=True)\n",
    "\n",
    "popular_artist_df.rename(columns = {'index':'artists','artists':'popularity'}, inplace = True)\n",
    "\n",
    "popular_artist_df.head()"
   ]
  },
  {
   "cell_type": "code",
   "execution_count": 32,
   "metadata": {},
   "outputs": [
    {
     "data": {
      "text/plain": [
       "pandas.core.frame.DataFrame"
      ]
     },
     "execution_count": 32,
     "metadata": {},
     "output_type": "execute_result"
    }
   ],
   "source": [
    "# checking what the data type is \n",
    "\n",
    "type(popular_artist_df)"
   ]
  },
  {
   "cell_type": "code",
   "execution_count": 33,
   "metadata": {},
   "outputs": [
    {
     "data": {
      "image/png": "[encoded data removed]",
      "text/plain": [
       "<Figure size 432x288 with 1 Axes>"
      ]
     },
     "metadata": {
      "needs_background": "light"
     },
     "output_type": "display_data"
    }
   ],
   "source": [
    "# most prolific artists from the data set as a bar chart\n",
    "\n",
    "plot = df1['artists'].value_counts().sort_values().nlargest(10).plot(kind = 'barh',\n",
    "                                                                     color = 'orange', title='Most Popular Artists')\n",
    "fig1 = plot.get_figure()\n",
    "\n",
    "fig1.savefig(\"images/fig1.png\") # exporting the fig"
   ]
  },
  {
   "cell_type": "markdown",
   "metadata": {},
   "source": [
    "Interactive plots using plotly :"
   ]
  },
  {
   "cell_type": "code",
   "execution_count": 34,
   "metadata": {},
   "outputs": [
    {
     "data": {
      "application/vnd.plotly.v1+json": {
       "config": {
        "plotlyServerURL": "https://plot.ly"
       },
       "data": [
        {
         "hoverlabel": {
          "namelength": 0
         },
         "hovertemplate": "artists=%{x}<br>popularity=%{marker.size}",
         "legendgroup": "artists=Francisco Canaro",
         "marker": {
          "color": "#636efa",
          "size": [
           1407
          ],
          "sizemode": "area",
          "sizeref": 3.5175,
          "symbol": "circle"
         },
         "mode": "markers",
         "name": "artists=Francisco Canaro",
         "showlegend": true,
         "type": "scatter",
         "x": [
          "Francisco Canaro"
         ],
         "xaxis": "x",
         "y": [
          1407
         ],
         "yaxis": "y"
        },
        {
         "hoverlabel": {
          "namelength": 0
         },
         "hovertemplate": "artists=%{x}<br>popularity=%{marker.size}",
         "legendgroup": "artists=Tadeusz Dolega Mostowicz",
         "marker": {
          "color": "#EF553B",
          "size": [
           1281
          ],
          "sizemode": "area",
          "sizeref": 3.5175,
          "symbol": "circle"
         },
         "mode": "markers",
         "name": "artists=Tadeusz Dolega Mostowicz",
         "showlegend": true,
         "type": "scatter",
         "x": [
          "Tadeusz Dolega Mostowicz"
         ],
         "xaxis": "x",
         "y": [
          1281
         ],
         "yaxis": "y"
        },
        {
         "hoverlabel": {
          "namelength": 0
         },
         "hovertemplate": "artists=%{x}<br>popularity=%{marker.size}",
         "legendgroup": "artists=Эрнест Хемингуэй",
         "marker": {
          "color": "#00cc96",
          "size": [
           1175
          ],
          "sizemode": "area",
          "sizeref": 3.5175,
          "symbol": "circle"
         },
         "mode": "markers",
         "name": "artists=Эрнест Хемингуэй",
         "showlegend": true,
         "type": "scatter",
         "x": [
          "Эрнест Хемингуэй"
         ],
         "xaxis": "x",
         "y": [
          1175
         ],
         "yaxis": "y"
        },
        {
         "hoverlabel": {
          "namelength": 0
         },
         "hovertemplate": "artists=%{x}<br>popularity=%{marker.size}",
         "legendgroup": "artists=Эрих Мария Ремарк",
         "marker": {
          "color": "#ab63fa",
          "size": [
           1062
          ],
          "sizemode": "area",
          "sizeref": 3.5175,
          "symbol": "circle"
         },
         "mode": "markers",
         "name": "artists=Эрих Мария Ремарк",
         "showlegend": true,
         "type": "scatter",
         "x": [
          "Эрих Мария Ремарк"
         ],
         "xaxis": "x",
         "y": [
          1062
         ],
         "yaxis": "y"
        },
        {
         "hoverlabel": {
          "namelength": 0
         },
         "hovertemplate": "artists=%{x}<br>popularity=%{marker.size}",
         "legendgroup": "artists=Ignacio Corsini",
         "marker": {
          "color": "#FFA15A",
          "size": [
           624
          ],
          "sizemode": "area",
          "sizeref": 3.5175,
          "symbol": "circle"
         },
         "mode": "markers",
         "name": "artists=Ignacio Corsini",
         "showlegend": true,
         "type": "scatter",
         "x": [
          "Ignacio Corsini"
         ],
         "xaxis": "x",
         "y": [
          624
         ],
         "yaxis": "y"
        },
        {
         "hoverlabel": {
          "namelength": 0
         },
         "hovertemplate": "artists=%{x}<br>popularity=%{marker.size}",
         "legendgroup": "artists=Frank Sinatra",
         "marker": {
          "color": "#19d3f3",
          "size": [
           621
          ],
          "sizemode": "area",
          "sizeref": 3.5175,
          "symbol": "circle"
         },
         "mode": "markers",
         "name": "artists=Frank Sinatra",
         "showlegend": true,
         "type": "scatter",
         "x": [
          "Frank Sinatra"
         ],
         "xaxis": "x",
         "y": [
          621
         ],
         "yaxis": "y"
        },
        {
         "hoverlabel": {
          "namelength": 0
         },
         "hovertemplate": "artists=%{x}<br>popularity=%{marker.size}",
         "legendgroup": "artists=Elvis Presley",
         "marker": {
          "color": "#FF6692",
          "size": [
           494
          ],
          "sizemode": "area",
          "sizeref": 3.5175,
          "symbol": "circle"
         },
         "mode": "markers",
         "name": "artists=Elvis Presley",
         "showlegend": true,
         "type": "scatter",
         "x": [
          "Elvis Presley"
         ],
         "xaxis": "x",
         "y": [
          494
         ],
         "yaxis": "y"
        },
        {
         "hoverlabel": {
          "namelength": 0
         },
         "hovertemplate": "artists=%{x}<br>popularity=%{marker.size}",
         "legendgroup": "artists=Bob Dylan",
         "marker": {
          "color": "#B6E880",
          "size": [
           459
          ],
          "sizemode": "area",
          "sizeref": 3.5175,
          "symbol": "circle"
         },
         "mode": "markers",
         "name": "artists=Bob Dylan",
         "showlegend": true,
         "type": "scatter",
         "x": [
          "Bob Dylan"
         ],
         "xaxis": "x",
         "y": [
          459
         ],
         "yaxis": "y"
        },
        {
         "hoverlabel": {
          "namelength": 0
         },
         "hovertemplate": "artists=%{x}<br>popularity=%{marker.size}",
         "legendgroup": "artists=Johnny Cash",
         "marker": {
          "color": "#FF97FF",
          "size": [
           456
          ],
          "sizemode": "area",
          "sizeref": 3.5175,
          "symbol": "circle"
         },
         "mode": "markers",
         "name": "artists=Johnny Cash",
         "showlegend": true,
         "type": "scatter",
         "x": [
          "Johnny Cash"
         ],
         "xaxis": "x",
         "y": [
          456
         ],
         "yaxis": "y"
        },
        {
         "hoverlabel": {
          "namelength": 0
         },
         "hovertemplate": "artists=%{x}<br>popularity=%{marker.size}",
         "legendgroup": "artists=The Rolling Stones",
         "marker": {
          "color": "#FECB52",
          "size": [
           450
          ],
          "sizemode": "area",
          "sizeref": 3.5175,
          "symbol": "circle"
         },
         "mode": "markers",
         "name": "artists=The Rolling Stones",
         "showlegend": true,
         "type": "scatter",
         "x": [
          "The Rolling Stones"
         ],
         "xaxis": "x",
         "y": [
          450
         ],
         "yaxis": "y"
        }
       ],
       "layout": {
        "height": 600,
        "legend": {
         "itemsizing": "constant",
         "tracegroupgap": 0
        },
        "template": {
         "data": {
          "bar": [
           {
            "error_x": {
             "color": "#2a3f5f"
            },
            "error_y": {
             "color": "#2a3f5f"
            },
            "marker": {
             "line": {
              "color": "#E5ECF6",
              "width": 0.5
             }
            },
            "type": "bar"
           }
          ],
          "barpolar": [
           {
            "marker": {
             "line": {
              "color": "#E5ECF6",
              "width": 0.5
             }
            },
            "type": "barpolar"
           }
          ],
          "carpet": [
           {
            "aaxis": {
             "endlinecolor": "#2a3f5f",
             "gridcolor": "white",
             "linecolor": "white",
             "minorgridcolor": "white",
             "startlinecolor": "#2a3f5f"
            },
            "baxis": {
             "endlinecolor": "#2a3f5f",
             "gridcolor": "white",
             "linecolor": "white",
             "minorgridcolor": "white",
             "startlinecolor": "#2a3f5f"
            },
            "type": "carpet"
           }
          ],
          "choropleth": [
           {
            "colorbar": {
             "outlinewidth": 0,
             "ticks": ""
            },
            "type": "choropleth"
           }
          ],
          "contour": [
           {
            "colorbar": {
             "outlinewidth": 0,
             "ticks": ""
            },
            "colorscale": [
             [
              0,
              "#0d0887"
             ],
             [
              0.1111111111111111,
              "#46039f"
             ],
             [
              0.2222222222222222,
              "#7201a8"
             ],
             [
              0.3333333333333333,
              "#9c179e"
             ],
             [
              0.4444444444444444,
              "#bd3786"
             ],
             [
              0.5555555555555556,
              "#d8576b"
             ],
             [
              0.6666666666666666,
              "#ed7953"
             ],
             [
              0.7777777777777778,
              "#fb9f3a"
             ],
             [
              0.8888888888888888,
              "#fdca26"
             ],
             [
              1,
              "#f0f921"
             ]
            ],
            "type": "contour"
           }
          ],
          "contourcarpet": [
           {
            "colorbar": {
             "outlinewidth": 0,
             "ticks": ""
            },
            "type": "contourcarpet"
           }
          ],
          "heatmap": [
           {
            "colorbar": {
             "outlinewidth": 0,
             "ticks": ""
            },
            "colorscale": [
             [
              0,
              "#0d0887"
             ],
             [
              0.1111111111111111,
              "#46039f"
             ],
             [
              0.2222222222222222,
              "#7201a8"
             ],
             [
              0.3333333333333333,
              "#9c179e"
             ],
             [
              0.4444444444444444,
              "#bd3786"
             ],
             [
              0.5555555555555556,
              "#d8576b"
             ],
             [
              0.6666666666666666,
              "#ed7953"
             ],
             [
              0.7777777777777778,
              "#fb9f3a"
             ],
             [
              0.8888888888888888,
              "#fdca26"
             ],
             [
              1,
              "#f0f921"
             ]
            ],
            "type": "heatmap"
           }
          ],
          "heatmapgl": [
           {
            "colorbar": {
             "outlinewidth": 0,
             "ticks": ""
            },
            "colorscale": [
             [
              0,
              "#0d0887"
             ],
             [
              0.1111111111111111,
              "#46039f"
             ],
             [
              0.2222222222222222,
              "#7201a8"
             ],
             [
              0.3333333333333333,
              "#9c179e"
             ],
             [
              0.4444444444444444,
              "#bd3786"
             ],
             [
              0.5555555555555556,
              "#d8576b"
             ],
             [
              0.6666666666666666,
              "#ed7953"
             ],
             [
              0.7777777777777778,
              "#fb9f3a"
             ],
             [
              0.8888888888888888,
              "#fdca26"
             ],
             [
              1,
              "#f0f921"
             ]
            ],
            "type": "heatmapgl"
           }
          ],
          "histogram": [
           {
            "marker": {
             "colorbar": {
              "outlinewidth": 0,
              "ticks": ""
             }
            },
            "type": "histogram"
           }
          ],
          "histogram2d": [
           {
            "colorbar": {
             "outlinewidth": 0,
             "ticks": ""
            },
            "colorscale": [
             [
              0,
              "#0d0887"
             ],
             [
              0.1111111111111111,
              "#46039f"
             ],
             [
              0.2222222222222222,
              "#7201a8"
             ],
             [
              0.3333333333333333,
              "#9c179e"
             ],
             [
              0.4444444444444444,
              "#bd3786"
             ],
             [
              0.5555555555555556,
              "#d8576b"
             ],
             [
              0.6666666666666666,
              "#ed7953"
             ],
             [
              0.7777777777777778,
              "#fb9f3a"
             ],
             [
              0.8888888888888888,
              "#fdca26"
             ],
             [
              1,
              "#f0f921"
             ]
            ],
            "type": "histogram2d"
           }
          ],
          "histogram2dcontour": [
           {
            "colorbar": {
             "outlinewidth": 0,
             "ticks": ""
            },
            "colorscale": [
             [
              0,
              "#0d0887"
             ],
             [
              0.1111111111111111,
              "#46039f"
             ],
             [
              0.2222222222222222,
              "#7201a8"
             ],
             [
              0.3333333333333333,
              "#9c179e"
             ],
             [
              0.4444444444444444,
              "#bd3786"
             ],
             [
              0.5555555555555556,
              "#d8576b"
             ],
             [
              0.6666666666666666,
              "#ed7953"
             ],
             [
              0.7777777777777778,
              "#fb9f3a"
             ],
             [
              0.8888888888888888,
              "#fdca26"
             ],
             [
              1,
              "#f0f921"
             ]
            ],
            "type": "histogram2dcontour"
           }
          ],
          "mesh3d": [
           {
            "colorbar": {
             "outlinewidth": 0,
             "ticks": ""
            },
            "type": "mesh3d"
           }
          ],
          "parcoords": [
           {
            "line": {
             "colorbar": {
              "outlinewidth": 0,
              "ticks": ""
             }
            },
            "type": "parcoords"
           }
          ],
          "scatter": [
           {
            "marker": {
             "colorbar": {
              "outlinewidth": 0,
              "ticks": ""
             }
            },
            "type": "scatter"
           }
          ],
          "scatter3d": [
           {
            "line": {
             "colorbar": {
              "outlinewidth": 0,
              "ticks": ""
             }
            },
            "marker": {
             "colorbar": {
              "outlinewidth": 0,
              "ticks": ""
             }
            },
            "type": "scatter3d"
           }
          ],
          "scattercarpet": [
           {
            "marker": {
             "colorbar": {
              "outlinewidth": 0,
              "ticks": ""
             }
            },
            "type": "scattercarpet"
           }
          ],
          "scattergeo": [
           {
            "marker": {
             "colorbar": {
              "outlinewidth": 0,
              "ticks": ""
             }
            },
            "type": "scattergeo"
           }
          ],
          "scattergl": [
           {
            "marker": {
             "colorbar": {
              "outlinewidth": 0,
              "ticks": ""
             }
            },
            "type": "scattergl"
           }
          ],
          "scattermapbox": [
           {
            "marker": {
             "colorbar": {
              "outlinewidth": 0,
              "ticks": ""
             }
            },
            "type": "scattermapbox"
           }
          ],
          "scatterpolar": [
           {
            "marker": {
             "colorbar": {
              "outlinewidth": 0,
              "ticks": ""
             }
            },
            "type": "scatterpolar"
           }
          ],
          "scatterpolargl": [
           {
            "marker": {
             "colorbar": {
              "outlinewidth": 0,
              "ticks": ""
             }
            },
            "type": "scatterpolargl"
           }
          ],
          "scatterternary": [
           {
            "marker": {
             "colorbar": {
              "outlinewidth": 0,
              "ticks": ""
             }
            },
            "type": "scatterternary"
           }
          ],
          "surface": [
           {
            "colorbar": {
             "outlinewidth": 0,
             "ticks": ""
            },
            "colorscale": [
             [
              0,
              "#0d0887"
             ],
             [
              0.1111111111111111,
              "#46039f"
             ],
             [
              0.2222222222222222,
              "#7201a8"
             ],
             [
              0.3333333333333333,
              "#9c179e"
             ],
             [
              0.4444444444444444,
              "#bd3786"
             ],
             [
              0.5555555555555556,
              "#d8576b"
             ],
             [
              0.6666666666666666,
              "#ed7953"
             ],
             [
              0.7777777777777778,
              "#fb9f3a"
             ],
             [
              0.8888888888888888,
              "#fdca26"
             ],
             [
              1,
              "#f0f921"
             ]
            ],
            "type": "surface"
           }
          ],
          "table": [
           {
            "cells": {
             "fill": {
              "color": "#EBF0F8"
             },
             "line": {
              "color": "white"
             }
            },
            "header": {
             "fill": {
              "color": "#C8D4E3"
             },
             "line": {
              "color": "white"
             }
            },
            "type": "table"
           }
          ]
         },
         "layout": {
          "annotationdefaults": {
           "arrowcolor": "#2a3f5f",
           "arrowhead": 0,
           "arrowwidth": 1
          },
          "colorscale": {
           "diverging": [
            [
             0,
             "#8e0152"
            ],
            [
             0.1,
             "#c51b7d"
            ],
            [
             0.2,
             "#de77ae"
            ],
            [
             0.3,
             "#f1b6da"
            ],
            [
             0.4,
             "#fde0ef"
            ],
            [
             0.5,
             "#f7f7f7"
            ],
            [
             0.6,
             "#e6f5d0"
            ],
            [
             0.7,
             "#b8e186"
            ],
            [
             0.8,
             "#7fbc41"
            ],
            [
             0.9,
             "#4d9221"
            ],
            [
             1,
             "#276419"
            ]
           ],
           "sequential": [
            [
             0,
             "#0d0887"
            ],
            [
             0.1111111111111111,
             "#46039f"
            ],
            [
             0.2222222222222222,
             "#7201a8"
            ],
            [
             0.3333333333333333,
             "#9c179e"
            ],
            [
             0.4444444444444444,
             "#bd3786"
            ],
            [
             0.5555555555555556,
             "#d8576b"
            ],
            [
             0.6666666666666666,
             "#ed7953"
            ],
            [
             0.7777777777777778,
             "#fb9f3a"
            ],
            [
             0.8888888888888888,
             "#fdca26"
            ],
            [
             1,
             "#f0f921"
            ]
           ],
           "sequentialminus": [
            [
             0,
             "#0d0887"
            ],
            [
             0.1111111111111111,
             "#46039f"
            ],
            [
             0.2222222222222222,
             "#7201a8"
            ],
            [
             0.3333333333333333,
             "#9c179e"
            ],
            [
             0.4444444444444444,
             "#bd3786"
            ],
            [
             0.5555555555555556,
             "#d8576b"
            ],
            [
             0.6666666666666666,
             "#ed7953"
            ],
            [
             0.7777777777777778,
             "#fb9f3a"
            ],
            [
             0.8888888888888888,
             "#fdca26"
            ],
            [
             1,
             "#f0f921"
            ]
           ]
          },
          "colorway": [
           "#636efa",
           "#EF553B",
           "#00cc96",
           "#ab63fa",
           "#FFA15A",
           "#19d3f3",
           "#FF6692",
           "#B6E880",
           "#FF97FF",
           "#FECB52"
          ],
          "font": {
           "color": "#2a3f5f"
          },
          "geo": {
           "bgcolor": "white",
           "lakecolor": "white",
           "landcolor": "#E5ECF6",
           "showlakes": true,
           "showland": true,
           "subunitcolor": "white"
          },
          "hoverlabel": {
           "align": "left"
          },
          "hovermode": "closest",
          "mapbox": {
           "style": "light"
          },
          "paper_bgcolor": "white",
          "plot_bgcolor": "#E5ECF6",
          "polar": {
           "angularaxis": {
            "gridcolor": "white",
            "linecolor": "white",
            "ticks": ""
           },
           "bgcolor": "#E5ECF6",
           "radialaxis": {
            "gridcolor": "white",
            "linecolor": "white",
            "ticks": ""
           }
          },
          "scene": {
           "xaxis": {
            "backgroundcolor": "#E5ECF6",
            "gridcolor": "white",
            "gridwidth": 2,
            "linecolor": "white",
            "showbackground": true,
            "ticks": "",
            "zerolinecolor": "white"
           },
           "yaxis": {
            "backgroundcolor": "#E5ECF6",
            "gridcolor": "white",
            "gridwidth": 2,
            "linecolor": "white",
            "showbackground": true,
            "ticks": "",
            "zerolinecolor": "white"
           },
           "zaxis": {
            "backgroundcolor": "#E5ECF6",
            "gridcolor": "white",
            "gridwidth": 2,
            "linecolor": "white",
            "showbackground": true,
            "ticks": "",
            "zerolinecolor": "white"
           }
          },
          "shapedefaults": {
           "line": {
            "color": "#2a3f5f"
           }
          },
          "ternary": {
           "aaxis": {
            "gridcolor": "white",
            "linecolor": "white",
            "ticks": ""
           },
           "baxis": {
            "gridcolor": "white",
            "linecolor": "white",
            "ticks": ""
           },
           "bgcolor": "#E5ECF6",
           "caxis": {
            "gridcolor": "white",
            "linecolor": "white",
            "ticks": ""
           }
          },
          "title": {
           "x": 0.05
          },
          "xaxis": {
           "automargin": true,
           "gridcolor": "white",
           "linecolor": "white",
           "ticks": "",
           "zerolinecolor": "white",
           "zerolinewidth": 2
          },
          "yaxis": {
           "automargin": true,
           "gridcolor": "white",
           "linecolor": "white",
           "ticks": "",
           "zerolinecolor": "white",
           "zerolinewidth": 2
          }
         }
        },
        "title": {
         "text": " Most Popular Artist"
        },
        "xaxis": {
         "anchor": "y",
         "categoryarray": [
          "Francisco Canaro",
          "Tadeusz Dolega Mostowicz",
          "Эрнест Хемингуэй",
          "Эрих Мария Ремарк",
          "Ignacio Corsini",
          "Frank Sinatra",
          "Elvis Presley",
          "Bob Dylan",
          "Johnny Cash",
          "The Rolling Stones"
         ],
         "categoryorder": "array",
         "domain": [
          0,
          0.98
         ],
         "title": {
          "text": "Artist"
         }
        },
        "yaxis": {
         "anchor": "x",
         "domain": [
          0,
          1
         ],
         "title": {
          "text": "Popularity"
         }
        }
       }
      },
      "text/html": [
       "<div>\n",
       "        \n",
       "        \n",
       "            <div id=\"b304d633-37e1-46dd-938b-c2c65f1032ba\" class=\"plotly-graph-div\" style=\"height:600px; width:100%;\"></div>\n",
       "            <script type=\"text/javascript\">\n",
       "                require([\"plotly\"], function(Plotly) {\n",
       "                    window.PLOTLYENV=window.PLOTLYENV || {};\n",
       "                    \n",
       "                if (document.getElementById(\"b304d633-37e1-46dd-938b-c2c65f1032ba\")) {\n",
       "                    Plotly.newPlot(\n",
       "                        'b304d633-37e1-46dd-938b-c2c65f1032ba',\n",
       "                        [{\"hoverlabel\": {\"namelength\": 0}, \"hovertemplate\": \"artists=%{x}<br>popularity=%{marker.size}\", \"legendgroup\": \"artists=Francisco Canaro\", \"marker\": {\"color\": \"#636efa\", \"size\": [1407], \"sizemode\": \"area\", \"sizeref\": 3.5175, \"symbol\": \"circle\"}, \"mode\": \"markers\", \"name\": \"artists=Francisco Canaro\", \"showlegend\": true, \"type\": \"scatter\", \"x\": [\"Francisco Canaro\"], \"xaxis\": \"x\", \"y\": [1407], \"yaxis\": \"y\"}, {\"hoverlabel\": {\"namelength\": 0}, \"hovertemplate\": \"artists=%{x}<br>popularity=%{marker.size}\", \"legendgroup\": \"artists=Tadeusz Dolega Mostowicz\", \"marker\": {\"color\": \"#EF553B\", \"size\": [1281], \"sizemode\": \"area\", \"sizeref\": 3.5175, \"symbol\": \"circle\"}, \"mode\": \"markers\", \"name\": \"artists=Tadeusz Dolega Mostowicz\", \"showlegend\": true, \"type\": \"scatter\", \"x\": [\"Tadeusz Dolega Mostowicz\"], \"xaxis\": \"x\", \"y\": [1281], \"yaxis\": \"y\"}, {\"hoverlabel\": {\"namelength\": 0}, \"hovertemplate\": \"artists=%{x}<br>popularity=%{marker.size}\", \"legendgroup\": \"artists=\\u042d\\u0440\\u043d\\u0435\\u0441\\u0442 \\u0425\\u0435\\u043c\\u0438\\u043d\\u0433\\u0443\\u044d\\u0439\", \"marker\": {\"color\": \"#00cc96\", \"size\": [1175], \"sizemode\": \"area\", \"sizeref\": 3.5175, \"symbol\": \"circle\"}, \"mode\": \"markers\", \"name\": \"artists=\\u042d\\u0440\\u043d\\u0435\\u0441\\u0442 \\u0425\\u0435\\u043c\\u0438\\u043d\\u0433\\u0443\\u044d\\u0439\", \"showlegend\": true, \"type\": \"scatter\", \"x\": [\"\\u042d\\u0440\\u043d\\u0435\\u0441\\u0442 \\u0425\\u0435\\u043c\\u0438\\u043d\\u0433\\u0443\\u044d\\u0439\"], \"xaxis\": \"x\", \"y\": [1175], \"yaxis\": \"y\"}, {\"hoverlabel\": {\"namelength\": 0}, \"hovertemplate\": \"artists=%{x}<br>popularity=%{marker.size}\", \"legendgroup\": \"artists=\\u042d\\u0440\\u0438\\u0445 \\u041c\\u0430\\u0440\\u0438\\u044f \\u0420\\u0435\\u043c\\u0430\\u0440\\u043a\", \"marker\": {\"color\": \"#ab63fa\", \"size\": [1062], \"sizemode\": \"area\", \"sizeref\": 3.5175, \"symbol\": \"circle\"}, \"mode\": \"markers\", \"name\": \"artists=\\u042d\\u0440\\u0438\\u0445 \\u041c\\u0430\\u0440\\u0438\\u044f \\u0420\\u0435\\u043c\\u0430\\u0440\\u043a\", \"showlegend\": true, \"type\": \"scatter\", \"x\": [\"\\u042d\\u0440\\u0438\\u0445 \\u041c\\u0430\\u0440\\u0438\\u044f \\u0420\\u0435\\u043c\\u0430\\u0440\\u043a\"], \"xaxis\": \"x\", \"y\": [1062], \"yaxis\": \"y\"}, {\"hoverlabel\": {\"namelength\": 0}, \"hovertemplate\": \"artists=%{x}<br>popularity=%{marker.size}\", \"legendgroup\": \"artists=Ignacio Corsini\", \"marker\": {\"color\": \"#FFA15A\", \"size\": [624], \"sizemode\": \"area\", \"sizeref\": 3.5175, \"symbol\": \"circle\"}, \"mode\": \"markers\", \"name\": \"artists=Ignacio Corsini\", \"showlegend\": true, \"type\": \"scatter\", \"x\": [\"Ignacio Corsini\"], \"xaxis\": \"x\", \"y\": [624], \"yaxis\": \"y\"}, {\"hoverlabel\": {\"namelength\": 0}, \"hovertemplate\": \"artists=%{x}<br>popularity=%{marker.size}\", \"legendgroup\": \"artists=Frank Sinatra\", \"marker\": {\"color\": \"#19d3f3\", \"size\": [621], \"sizemode\": \"area\", \"sizeref\": 3.5175, \"symbol\": \"circle\"}, \"mode\": \"markers\", \"name\": \"artists=Frank Sinatra\", \"showlegend\": true, \"type\": \"scatter\", \"x\": [\"Frank Sinatra\"], \"xaxis\": \"x\", \"y\": [621], \"yaxis\": \"y\"}, {\"hoverlabel\": {\"namelength\": 0}, \"hovertemplate\": \"artists=%{x}<br>popularity=%{marker.size}\", \"legendgroup\": \"artists=Elvis Presley\", \"marker\": {\"color\": \"#FF6692\", \"size\": [494], \"sizemode\": \"area\", \"sizeref\": 3.5175, \"symbol\": \"circle\"}, \"mode\": \"markers\", \"name\": \"artists=Elvis Presley\", \"showlegend\": true, \"type\": \"scatter\", \"x\": [\"Elvis Presley\"], \"xaxis\": \"x\", \"y\": [494], \"yaxis\": \"y\"}, {\"hoverlabel\": {\"namelength\": 0}, \"hovertemplate\": \"artists=%{x}<br>popularity=%{marker.size}\", \"legendgroup\": \"artists=Bob Dylan\", \"marker\": {\"color\": \"#B6E880\", \"size\": [459], \"sizemode\": \"area\", \"sizeref\": 3.5175, \"symbol\": \"circle\"}, \"mode\": \"markers\", \"name\": \"artists=Bob Dylan\", \"showlegend\": true, \"type\": \"scatter\", \"x\": [\"Bob Dylan\"], \"xaxis\": \"x\", \"y\": [459], \"yaxis\": \"y\"}, {\"hoverlabel\": {\"namelength\": 0}, \"hovertemplate\": \"artists=%{x}<br>popularity=%{marker.size}\", \"legendgroup\": \"artists=Johnny Cash\", \"marker\": {\"color\": \"#FF97FF\", \"size\": [456], \"sizemode\": \"area\", \"sizeref\": 3.5175, \"symbol\": \"circle\"}, \"mode\": \"markers\", \"name\": \"artists=Johnny Cash\", \"showlegend\": true, \"type\": \"scatter\", \"x\": [\"Johnny Cash\"], \"xaxis\": \"x\", \"y\": [456], \"yaxis\": \"y\"}, {\"hoverlabel\": {\"namelength\": 0}, \"hovertemplate\": \"artists=%{x}<br>popularity=%{marker.size}\", \"legendgroup\": \"artists=The Rolling Stones\", \"marker\": {\"color\": \"#FECB52\", \"size\": [450], \"sizemode\": \"area\", \"sizeref\": 3.5175, \"symbol\": \"circle\"}, \"mode\": \"markers\", \"name\": \"artists=The Rolling Stones\", \"showlegend\": true, \"type\": \"scatter\", \"x\": [\"The Rolling Stones\"], \"xaxis\": \"x\", \"y\": [450], \"yaxis\": \"y\"}],\n",
       "                        {\"height\": 600, \"legend\": {\"itemsizing\": \"constant\", \"tracegroupgap\": 0}, \"template\": {\"data\": {\"bar\": [{\"error_x\": {\"color\": \"#2a3f5f\"}, \"error_y\": {\"color\": \"#2a3f5f\"}, \"marker\": {\"line\": {\"color\": \"#E5ECF6\", \"width\": 0.5}}, \"type\": \"bar\"}], \"barpolar\": [{\"marker\": {\"line\": {\"color\": \"#E5ECF6\", \"width\": 0.5}}, \"type\": \"barpolar\"}], \"carpet\": [{\"aaxis\": {\"endlinecolor\": \"#2a3f5f\", \"gridcolor\": \"white\", \"linecolor\": \"white\", \"minorgridcolor\": \"white\", \"startlinecolor\": \"#2a3f5f\"}, \"baxis\": {\"endlinecolor\": \"#2a3f5f\", \"gridcolor\": \"white\", \"linecolor\": \"white\", \"minorgridcolor\": \"white\", \"startlinecolor\": \"#2a3f5f\"}, \"type\": \"carpet\"}], \"choropleth\": [{\"colorbar\": {\"outlinewidth\": 0, \"ticks\": \"\"}, \"type\": \"choropleth\"}], \"contour\": [{\"colorbar\": {\"outlinewidth\": 0, \"ticks\": \"\"}, \"colorscale\": [[0.0, \"#0d0887\"], [0.1111111111111111, \"#46039f\"], [0.2222222222222222, \"#7201a8\"], [0.3333333333333333, \"#9c179e\"], [0.4444444444444444, \"#bd3786\"], [0.5555555555555556, \"#d8576b\"], [0.6666666666666666, \"#ed7953\"], [0.7777777777777778, \"#fb9f3a\"], [0.8888888888888888, \"#fdca26\"], [1.0, \"#f0f921\"]], \"type\": \"contour\"}], \"contourcarpet\": [{\"colorbar\": {\"outlinewidth\": 0, \"ticks\": \"\"}, \"type\": \"contourcarpet\"}], \"heatmap\": [{\"colorbar\": {\"outlinewidth\": 0, \"ticks\": \"\"}, \"colorscale\": [[0.0, \"#0d0887\"], [0.1111111111111111, \"#46039f\"], [0.2222222222222222, \"#7201a8\"], [0.3333333333333333, \"#9c179e\"], [0.4444444444444444, \"#bd3786\"], [0.5555555555555556, \"#d8576b\"], [0.6666666666666666, \"#ed7953\"], [0.7777777777777778, \"#fb9f3a\"], [0.8888888888888888, \"#fdca26\"], [1.0, \"#f0f921\"]], \"type\": \"heatmap\"}], \"heatmapgl\": [{\"colorbar\": {\"outlinewidth\": 0, \"ticks\": \"\"}, \"colorscale\": [[0.0, \"#0d0887\"], [0.1111111111111111, \"#46039f\"], [0.2222222222222222, \"#7201a8\"], [0.3333333333333333, \"#9c179e\"], [0.4444444444444444, \"#bd3786\"], [0.5555555555555556, \"#d8576b\"], [0.6666666666666666, \"#ed7953\"], [0.7777777777777778, \"#fb9f3a\"], [0.8888888888888888, \"#fdca26\"], [1.0, \"#f0f921\"]], \"type\": \"heatmapgl\"}], \"histogram\": [{\"marker\": {\"colorbar\": {\"outlinewidth\": 0, \"ticks\": \"\"}}, \"type\": \"histogram\"}], \"histogram2d\": [{\"colorbar\": {\"outlinewidth\": 0, \"ticks\": \"\"}, \"colorscale\": [[0.0, \"#0d0887\"], [0.1111111111111111, \"#46039f\"], [0.2222222222222222, \"#7201a8\"], [0.3333333333333333, \"#9c179e\"], [0.4444444444444444, \"#bd3786\"], [0.5555555555555556, \"#d8576b\"], [0.6666666666666666, \"#ed7953\"], [0.7777777777777778, \"#fb9f3a\"], [0.8888888888888888, \"#fdca26\"], [1.0, \"#f0f921\"]], \"type\": \"histogram2d\"}], \"histogram2dcontour\": [{\"colorbar\": {\"outlinewidth\": 0, \"ticks\": \"\"}, \"colorscale\": [[0.0, \"#0d0887\"], [0.1111111111111111, \"#46039f\"], [0.2222222222222222, \"#7201a8\"], [0.3333333333333333, \"#9c179e\"], [0.4444444444444444, \"#bd3786\"], [0.5555555555555556, \"#d8576b\"], [0.6666666666666666, \"#ed7953\"], [0.7777777777777778, \"#fb9f3a\"], [0.8888888888888888, \"#fdca26\"], [1.0, \"#f0f921\"]], \"type\": \"histogram2dcontour\"}], \"mesh3d\": [{\"colorbar\": {\"outlinewidth\": 0, \"ticks\": \"\"}, \"type\": \"mesh3d\"}], \"parcoords\": [{\"line\": {\"colorbar\": {\"outlinewidth\": 0, \"ticks\": \"\"}}, \"type\": \"parcoords\"}], \"scatter\": [{\"marker\": {\"colorbar\": {\"outlinewidth\": 0, \"ticks\": \"\"}}, \"type\": \"scatter\"}], \"scatter3d\": [{\"line\": {\"colorbar\": {\"outlinewidth\": 0, \"ticks\": \"\"}}, \"marker\": {\"colorbar\": {\"outlinewidth\": 0, \"ticks\": \"\"}}, \"type\": \"scatter3d\"}], \"scattercarpet\": [{\"marker\": {\"colorbar\": {\"outlinewidth\": 0, \"ticks\": \"\"}}, \"type\": \"scattercarpet\"}], \"scattergeo\": [{\"marker\": {\"colorbar\": {\"outlinewidth\": 0, \"ticks\": \"\"}}, \"type\": \"scattergeo\"}], \"scattergl\": [{\"marker\": {\"colorbar\": {\"outlinewidth\": 0, \"ticks\": \"\"}}, \"type\": \"scattergl\"}], \"scattermapbox\": [{\"marker\": {\"colorbar\": {\"outlinewidth\": 0, \"ticks\": \"\"}}, \"type\": \"scattermapbox\"}], \"scatterpolar\": [{\"marker\": {\"colorbar\": {\"outlinewidth\": 0, \"ticks\": \"\"}}, \"type\": \"scatterpolar\"}], \"scatterpolargl\": [{\"marker\": {\"colorbar\": {\"outlinewidth\": 0, \"ticks\": \"\"}}, \"type\": \"scatterpolargl\"}], \"scatterternary\": [{\"marker\": {\"colorbar\": {\"outlinewidth\": 0, \"ticks\": \"\"}}, \"type\": \"scatterternary\"}], \"surface\": [{\"colorbar\": {\"outlinewidth\": 0, \"ticks\": \"\"}, \"colorscale\": [[0.0, \"#0d0887\"], [0.1111111111111111, \"#46039f\"], [0.2222222222222222, \"#7201a8\"], [0.3333333333333333, \"#9c179e\"], [0.4444444444444444, \"#bd3786\"], [0.5555555555555556, \"#d8576b\"], [0.6666666666666666, \"#ed7953\"], [0.7777777777777778, \"#fb9f3a\"], [0.8888888888888888, \"#fdca26\"], [1.0, \"#f0f921\"]], \"type\": \"surface\"}], \"table\": [{\"cells\": {\"fill\": {\"color\": \"#EBF0F8\"}, \"line\": {\"color\": \"white\"}}, \"header\": {\"fill\": {\"color\": \"#C8D4E3\"}, \"line\": {\"color\": \"white\"}}, \"type\": \"table\"}]}, \"layout\": {\"annotationdefaults\": {\"arrowcolor\": \"#2a3f5f\", \"arrowhead\": 0, \"arrowwidth\": 1}, \"colorscale\": {\"diverging\": [[0, \"#8e0152\"], [0.1, \"#c51b7d\"], [0.2, \"#de77ae\"], [0.3, \"#f1b6da\"], [0.4, \"#fde0ef\"], [0.5, \"#f7f7f7\"], [0.6, \"#e6f5d0\"], [0.7, \"#b8e186\"], [0.8, \"#7fbc41\"], [0.9, \"#4d9221\"], [1, \"#276419\"]], \"sequential\": [[0.0, \"#0d0887\"], [0.1111111111111111, \"#46039f\"], [0.2222222222222222, \"#7201a8\"], [0.3333333333333333, \"#9c179e\"], [0.4444444444444444, \"#bd3786\"], [0.5555555555555556, \"#d8576b\"], [0.6666666666666666, \"#ed7953\"], [0.7777777777777778, \"#fb9f3a\"], [0.8888888888888888, \"#fdca26\"], [1.0, \"#f0f921\"]], \"sequentialminus\": [[0.0, \"#0d0887\"], [0.1111111111111111, \"#46039f\"], [0.2222222222222222, \"#7201a8\"], [0.3333333333333333, \"#9c179e\"], [0.4444444444444444, \"#bd3786\"], [0.5555555555555556, \"#d8576b\"], [0.6666666666666666, \"#ed7953\"], [0.7777777777777778, \"#fb9f3a\"], [0.8888888888888888, \"#fdca26\"], [1.0, \"#f0f921\"]]}, \"colorway\": [\"#636efa\", \"#EF553B\", \"#00cc96\", \"#ab63fa\", \"#FFA15A\", \"#19d3f3\", \"#FF6692\", \"#B6E880\", \"#FF97FF\", \"#FECB52\"], \"font\": {\"color\": \"#2a3f5f\"}, \"geo\": {\"bgcolor\": \"white\", \"lakecolor\": \"white\", \"landcolor\": \"#E5ECF6\", \"showlakes\": true, \"showland\": true, \"subunitcolor\": \"white\"}, \"hoverlabel\": {\"align\": \"left\"}, \"hovermode\": \"closest\", \"mapbox\": {\"style\": \"light\"}, \"paper_bgcolor\": \"white\", \"plot_bgcolor\": \"#E5ECF6\", \"polar\": {\"angularaxis\": {\"gridcolor\": \"white\", \"linecolor\": \"white\", \"ticks\": \"\"}, \"bgcolor\": \"#E5ECF6\", \"radialaxis\": {\"gridcolor\": \"white\", \"linecolor\": \"white\", \"ticks\": \"\"}}, \"scene\": {\"xaxis\": {\"backgroundcolor\": \"#E5ECF6\", \"gridcolor\": \"white\", \"gridwidth\": 2, \"linecolor\": \"white\", \"showbackground\": true, \"ticks\": \"\", \"zerolinecolor\": \"white\"}, \"yaxis\": {\"backgroundcolor\": \"#E5ECF6\", \"gridcolor\": \"white\", \"gridwidth\": 2, \"linecolor\": \"white\", \"showbackground\": true, \"ticks\": \"\", \"zerolinecolor\": \"white\"}, \"zaxis\": {\"backgroundcolor\": \"#E5ECF6\", \"gridcolor\": \"white\", \"gridwidth\": 2, \"linecolor\": \"white\", \"showbackground\": true, \"ticks\": \"\", \"zerolinecolor\": \"white\"}}, \"shapedefaults\": {\"line\": {\"color\": \"#2a3f5f\"}}, \"ternary\": {\"aaxis\": {\"gridcolor\": \"white\", \"linecolor\": \"white\", \"ticks\": \"\"}, \"baxis\": {\"gridcolor\": \"white\", \"linecolor\": \"white\", \"ticks\": \"\"}, \"bgcolor\": \"#E5ECF6\", \"caxis\": {\"gridcolor\": \"white\", \"linecolor\": \"white\", \"ticks\": \"\"}}, \"title\": {\"x\": 0.05}, \"xaxis\": {\"automargin\": true, \"gridcolor\": \"white\", \"linecolor\": \"white\", \"ticks\": \"\", \"zerolinecolor\": \"white\", \"zerolinewidth\": 2}, \"yaxis\": {\"automargin\": true, \"gridcolor\": \"white\", \"linecolor\": \"white\", \"ticks\": \"\", \"zerolinecolor\": \"white\", \"zerolinewidth\": 2}}}, \"title\": {\"text\": \" Most Popular Artist\"}, \"xaxis\": {\"anchor\": \"y\", \"categoryarray\": [\"Francisco Canaro\", \"Tadeusz Dolega Mostowicz\", \"\\u042d\\u0440\\u043d\\u0435\\u0441\\u0442 \\u0425\\u0435\\u043c\\u0438\\u043d\\u0433\\u0443\\u044d\\u0439\", \"\\u042d\\u0440\\u0438\\u0445 \\u041c\\u0430\\u0440\\u0438\\u044f \\u0420\\u0435\\u043c\\u0430\\u0440\\u043a\", \"Ignacio Corsini\", \"Frank Sinatra\", \"Elvis Presley\", \"Bob Dylan\", \"Johnny Cash\", \"The Rolling Stones\"], \"categoryorder\": \"array\", \"domain\": [0.0, 0.98], \"title\": {\"text\": \"Artist\"}}, \"yaxis\": {\"anchor\": \"x\", \"domain\": [0.0, 1.0], \"title\": {\"text\": \"Popularity\"}}},\n",
       "                        {\"responsive\": true}\n",
       "                    ).then(function(){\n",
       "                            \n",
       "var gd = document.getElementById('b304d633-37e1-46dd-938b-c2c65f1032ba');\n",
       "var x = new MutationObserver(function (mutations, observer) {{\n",
       "        var display = window.getComputedStyle(gd).display;\n",
       "        if (!display || display === 'none') {{\n",
       "            console.log([gd, 'removed!']);\n",
       "            Plotly.purge(gd);\n",
       "            observer.disconnect();\n",
       "        }}\n",
       "}});\n",
       "\n",
       "// Listen for the removal of the full notebook cells\n",
       "var notebookContainer = gd.closest('#notebook-container');\n",
       "if (notebookContainer) {{\n",
       "    x.observe(notebookContainer, {childList: true});\n",
       "}}\n",
       "\n",
       "// Listen for the clearing of the current output cell\n",
       "var outputEl = gd.closest('.output');\n",
       "if (outputEl) {{\n",
       "    x.observe(outputEl, {childList: true});\n",
       "}}\n",
       "\n",
       "                        })\n",
       "                };\n",
       "                });\n",
       "            </script>\n",
       "        </div>"
      ]
     },
     "metadata": {},
     "output_type": "display_data"
    }
   ],
   "source": [
    "# trying a cool scatterplot style for the same data where the data dots size corresponds with the outcome  \n",
    "\n",
    "fig2 = px.scatter(popular_artist_df, x=\"artists\",\n",
    "                 y=\"popularity\",\n",
    "                 color=\"artists\",\n",
    "                 size='popularity',\n",
    "                 title=' Most Popular Artist')\n",
    "\n",
    "fig2.update_layout(\n",
    "    xaxis_title_text='Artist', # xaxis label\n",
    "    yaxis_title_text='Popularity', # yaxis label\n",
    ")\n",
    "\n",
    "\n",
    "fig2.show()\n",
    "\n",
    "fig2.write_image(\"images/fig2.png\") # exporting the fig"
   ]
  },
  {
   "cell_type": "code",
   "execution_count": 28,
   "metadata": {
    "id": "6Nj9T8PdEAxU"
   },
   "outputs": [
    {
     "data": {
      "application/vnd.plotly.v1+json": {
       "config": {
        "plotlyServerURL": "https://plot.ly"
       },
       "data": [
        {
         "alignmentgroup": "True",
         "bingroup": "x",
         "histfunc": "sum",
         "hoverlabel": {
          "namelength": 0
         },
         "hovertemplate": "Artist=%{x}<br>sum of Monthly listeners(millions)=%{y}",
         "legendgroup": "",
         "marker": {
          "color": "#636efa"
         },
         "name": "",
         "offsetgroup": "",
         "orientation": "v",
         "showlegend": false,
         "type": "histogram",
         "x": [
          "Justin Bieber",
          "The Weeknd",
          "Dua Lipa",
          "Bruno Mars",
          "Ariana Grande",
          "J Balvin",
          "Drake",
          "Khalid",
          "Maroon 5",
          "Ed Sheeran",
          "Giveon",
          "DaBaby",
          "David Guetta",
          "Taylor Swift",
          "Lil Nas X",
          "Doja Cat",
          "Travis Scott",
          "Bad Bunny",
          "Rihanna",
          "Daniel Caesar",
          "As of April 26, 2021"
         ],
         "xaxis": "x",
         "y": [
          "76.74",
          "68.89",
          "63.90",
          "56.28",
          "55.72",
          "54.63",
          "53.70",
          "53.59",
          "52.61",
          "52.11",
          "49.93",
          "49.16",
          "48.27",
          "47.98",
          "46.79",
          "46.62",
          "45.56",
          "45.55",
          "45.26",
          "44.23",
          "As of April 26, 2021"
         ],
         "yaxis": "y"
        }
       ],
       "layout": {
        "barmode": "relative",
        "height": 600,
        "legend": {
         "tracegroupgap": 0
        },
        "template": {
         "data": {
          "bar": [
           {
            "error_x": {
             "color": "#2a3f5f"
            },
            "error_y": {
             "color": "#2a3f5f"
            },
            "marker": {
             "line": {
              "color": "#E5ECF6",
              "width": 0.5
             }
            },
            "type": "bar"
           }
          ],
          "barpolar": [
           {
            "marker": {
             "line": {
              "color": "#E5ECF6",
              "width": 0.5
             }
            },
            "type": "barpolar"
           }
          ],
          "carpet": [
           {
            "aaxis": {
             "endlinecolor": "#2a3f5f",
             "gridcolor": "white",
             "linecolor": "white",
             "minorgridcolor": "white",
             "startlinecolor": "#2a3f5f"
            },
            "baxis": {
             "endlinecolor": "#2a3f5f",
             "gridcolor": "white",
             "linecolor": "white",
             "minorgridcolor": "white",
             "startlinecolor": "#2a3f5f"
            },
            "type": "carpet"
           }
          ],
          "choropleth": [
           {
            "colorbar": {
             "outlinewidth": 0,
             "ticks": ""
            },
            "type": "choropleth"
           }
          ],
          "contour": [
           {
            "colorbar": {
             "outlinewidth": 0,
             "ticks": ""
            },
            "colorscale": [
             [
              0,
              "#0d0887"
             ],
             [
              0.1111111111111111,
              "#46039f"
             ],
             [
              0.2222222222222222,
              "#7201a8"
             ],
             [
              0.3333333333333333,
              "#9c179e"
             ],
             [
              0.4444444444444444,
              "#bd3786"
             ],
             [
              0.5555555555555556,
              "#d8576b"
             ],
             [
              0.6666666666666666,
              "#ed7953"
             ],
             [
              0.7777777777777778,
              "#fb9f3a"
             ],
             [
              0.8888888888888888,
              "#fdca26"
             ],
             [
              1,
              "#f0f921"
             ]
            ],
            "type": "contour"
           }
          ],
          "contourcarpet": [
           {
            "colorbar": {
             "outlinewidth": 0,
             "ticks": ""
            },
            "type": "contourcarpet"
           }
          ],
          "heatmap": [
           {
            "colorbar": {
             "outlinewidth": 0,
             "ticks": ""
            },
            "colorscale": [
             [
              0,
              "#0d0887"
             ],
             [
              0.1111111111111111,
              "#46039f"
             ],
             [
              0.2222222222222222,
              "#7201a8"
             ],
             [
              0.3333333333333333,
              "#9c179e"
             ],
             [
              0.4444444444444444,
              "#bd3786"
             ],
             [
              0.5555555555555556,
              "#d8576b"
             ],
             [
              0.6666666666666666,
              "#ed7953"
             ],
             [
              0.7777777777777778,
              "#fb9f3a"
             ],
             [
              0.8888888888888888,
              "#fdca26"
             ],
             [
              1,
              "#f0f921"
             ]
            ],
            "type": "heatmap"
           }
          ],
          "heatmapgl": [
           {
            "colorbar": {
             "outlinewidth": 0,
             "ticks": ""
            },
            "colorscale": [
             [
              0,
              "#0d0887"
             ],
             [
              0.1111111111111111,
              "#46039f"
             ],
             [
              0.2222222222222222,
              "#7201a8"
             ],
             [
              0.3333333333333333,
              "#9c179e"
             ],
             [
              0.4444444444444444,
              "#bd3786"
             ],
             [
              0.5555555555555556,
              "#d8576b"
             ],
             [
              0.6666666666666666,
              "#ed7953"
             ],
             [
              0.7777777777777778,
              "#fb9f3a"
             ],
             [
              0.8888888888888888,
              "#fdca26"
             ],
             [
              1,
              "#f0f921"
             ]
            ],
            "type": "heatmapgl"
           }
          ],
          "histogram": [
           {
            "marker": {
             "colorbar": {
              "outlinewidth": 0,
              "ticks": ""
             }
            },
            "type": "histogram"
           }
          ],
          "histogram2d": [
           {
            "colorbar": {
             "outlinewidth": 0,
             "ticks": ""
            },
            "colorscale": [
             [
              0,
              "#0d0887"
             ],
             [
              0.1111111111111111,
              "#46039f"
             ],
             [
              0.2222222222222222,
              "#7201a8"
             ],
             [
              0.3333333333333333,
              "#9c179e"
             ],
             [
              0.4444444444444444,
              "#bd3786"
             ],
             [
              0.5555555555555556,
              "#d8576b"
             ],
             [
              0.6666666666666666,
              "#ed7953"
             ],
             [
              0.7777777777777778,
              "#fb9f3a"
             ],
             [
              0.8888888888888888,
              "#fdca26"
             ],
             [
              1,
              "#f0f921"
             ]
            ],
            "type": "histogram2d"
           }
          ],
          "histogram2dcontour": [
           {
            "colorbar": {
             "outlinewidth": 0,
             "ticks": ""
            },
            "colorscale": [
             [
              0,
              "#0d0887"
             ],
             [
              0.1111111111111111,
              "#46039f"
             ],
             [
              0.2222222222222222,
              "#7201a8"
             ],
             [
              0.3333333333333333,
              "#9c179e"
             ],
             [
              0.4444444444444444,
              "#bd3786"
             ],
             [
              0.5555555555555556,
              "#d8576b"
             ],
             [
              0.6666666666666666,
              "#ed7953"
             ],
             [
              0.7777777777777778,
              "#fb9f3a"
             ],
             [
              0.8888888888888888,
              "#fdca26"
             ],
             [
              1,
              "#f0f921"
             ]
            ],
            "type": "histogram2dcontour"
           }
          ],
          "mesh3d": [
           {
            "colorbar": {
             "outlinewidth": 0,
             "ticks": ""
            },
            "type": "mesh3d"
           }
          ],
          "parcoords": [
           {
            "line": {
             "colorbar": {
              "outlinewidth": 0,
              "ticks": ""
             }
            },
            "type": "parcoords"
           }
          ],
          "scatter": [
           {
            "marker": {
             "colorbar": {
              "outlinewidth": 0,
              "ticks": ""
             }
            },
            "type": "scatter"
           }
          ],
          "scatter3d": [
           {
            "line": {
             "colorbar": {
              "outlinewidth": 0,
              "ticks": ""
             }
            },
            "marker": {
             "colorbar": {
              "outlinewidth": 0,
              "ticks": ""
             }
            },
            "type": "scatter3d"
           }
          ],
          "scattercarpet": [
           {
            "marker": {
             "colorbar": {
              "outlinewidth": 0,
              "ticks": ""
             }
            },
            "type": "scattercarpet"
           }
          ],
          "scattergeo": [
           {
            "marker": {
             "colorbar": {
              "outlinewidth": 0,
              "ticks": ""
             }
            },
            "type": "scattergeo"
           }
          ],
          "scattergl": [
           {
            "marker": {
             "colorbar": {
              "outlinewidth": 0,
              "ticks": ""
             }
            },
            "type": "scattergl"
           }
          ],
          "scattermapbox": [
           {
            "marker": {
             "colorbar": {
              "outlinewidth": 0,
              "ticks": ""
             }
            },
            "type": "scattermapbox"
           }
          ],
          "scatterpolar": [
           {
            "marker": {
             "colorbar": {
              "outlinewidth": 0,
              "ticks": ""
             }
            },
            "type": "scatterpolar"
           }
          ],
          "scatterpolargl": [
           {
            "marker": {
             "colorbar": {
              "outlinewidth": 0,
              "ticks": ""
             }
            },
            "type": "scatterpolargl"
           }
          ],
          "scatterternary": [
           {
            "marker": {
             "colorbar": {
              "outlinewidth": 0,
              "ticks": ""
             }
            },
            "type": "scatterternary"
           }
          ],
          "surface": [
           {
            "colorbar": {
             "outlinewidth": 0,
             "ticks": ""
            },
            "colorscale": [
             [
              0,
              "#0d0887"
             ],
             [
              0.1111111111111111,
              "#46039f"
             ],
             [
              0.2222222222222222,
              "#7201a8"
             ],
             [
              0.3333333333333333,
              "#9c179e"
             ],
             [
              0.4444444444444444,
              "#bd3786"
             ],
             [
              0.5555555555555556,
              "#d8576b"
             ],
             [
              0.6666666666666666,
              "#ed7953"
             ],
             [
              0.7777777777777778,
              "#fb9f3a"
             ],
             [
              0.8888888888888888,
              "#fdca26"
             ],
             [
              1,
              "#f0f921"
             ]
            ],
            "type": "surface"
           }
          ],
          "table": [
           {
            "cells": {
             "fill": {
              "color": "#EBF0F8"
             },
             "line": {
              "color": "white"
             }
            },
            "header": {
             "fill": {
              "color": "#C8D4E3"
             },
             "line": {
              "color": "white"
             }
            },
            "type": "table"
           }
          ]
         },
         "layout": {
          "annotationdefaults": {
           "arrowcolor": "#2a3f5f",
           "arrowhead": 0,
           "arrowwidth": 1
          },
          "colorscale": {
           "diverging": [
            [
             0,
             "#8e0152"
            ],
            [
             0.1,
             "#c51b7d"
            ],
            [
             0.2,
             "#de77ae"
            ],
            [
             0.3,
             "#f1b6da"
            ],
            [
             0.4,
             "#fde0ef"
            ],
            [
             0.5,
             "#f7f7f7"
            ],
            [
             0.6,
             "#e6f5d0"
            ],
            [
             0.7,
             "#b8e186"
            ],
            [
             0.8,
             "#7fbc41"
            ],
            [
             0.9,
             "#4d9221"
            ],
            [
             1,
             "#276419"
            ]
           ],
           "sequential": [
            [
             0,
             "#0d0887"
            ],
            [
             0.1111111111111111,
             "#46039f"
            ],
            [
             0.2222222222222222,
             "#7201a8"
            ],
            [
             0.3333333333333333,
             "#9c179e"
            ],
            [
             0.4444444444444444,
             "#bd3786"
            ],
            [
             0.5555555555555556,
             "#d8576b"
            ],
            [
             0.6666666666666666,
             "#ed7953"
            ],
            [
             0.7777777777777778,
             "#fb9f3a"
            ],
            [
             0.8888888888888888,
             "#fdca26"
            ],
            [
             1,
             "#f0f921"
            ]
           ],
           "sequentialminus": [
            [
             0,
             "#0d0887"
            ],
            [
             0.1111111111111111,
             "#46039f"
            ],
            [
             0.2222222222222222,
             "#7201a8"
            ],
            [
             0.3333333333333333,
             "#9c179e"
            ],
            [
             0.4444444444444444,
             "#bd3786"
            ],
            [
             0.5555555555555556,
             "#d8576b"
            ],
            [
             0.6666666666666666,
             "#ed7953"
            ],
            [
             0.7777777777777778,
             "#fb9f3a"
            ],
            [
             0.8888888888888888,
             "#fdca26"
            ],
            [
             1,
             "#f0f921"
            ]
           ]
          },
          "colorway": [
           "#636efa",
           "#EF553B",
           "#00cc96",
           "#ab63fa",
           "#FFA15A",
           "#19d3f3",
           "#FF6692",
           "#B6E880",
           "#FF97FF",
           "#FECB52"
          ],
          "font": {
           "color": "#2a3f5f"
          },
          "geo": {
           "bgcolor": "white",
           "lakecolor": "white",
           "landcolor": "#E5ECF6",
           "showlakes": true,
           "showland": true,
           "subunitcolor": "white"
          },
          "hoverlabel": {
           "align": "left"
          },
          "hovermode": "closest",
          "mapbox": {
           "style": "light"
          },
          "paper_bgcolor": "white",
          "plot_bgcolor": "#E5ECF6",
          "polar": {
           "angularaxis": {
            "gridcolor": "white",
            "linecolor": "white",
            "ticks": ""
           },
           "bgcolor": "#E5ECF6",
           "radialaxis": {
            "gridcolor": "white",
            "linecolor": "white",
            "ticks": ""
           }
          },
          "scene": {
           "xaxis": {
            "backgroundcolor": "#E5ECF6",
            "gridcolor": "white",
            "gridwidth": 2,
            "linecolor": "white",
            "showbackground": true,
            "ticks": "",
            "zerolinecolor": "white"
           },
           "yaxis": {
            "backgroundcolor": "#E5ECF6",
            "gridcolor": "white",
            "gridwidth": 2,
            "linecolor": "white",
            "showbackground": true,
            "ticks": "",
            "zerolinecolor": "white"
           },
           "zaxis": {
            "backgroundcolor": "#E5ECF6",
            "gridcolor": "white",
            "gridwidth": 2,
            "linecolor": "white",
            "showbackground": true,
            "ticks": "",
            "zerolinecolor": "white"
           }
          },
          "shapedefaults": {
           "line": {
            "color": "#2a3f5f"
           }
          },
          "ternary": {
           "aaxis": {
            "gridcolor": "white",
            "linecolor": "white",
            "ticks": ""
           },
           "baxis": {
            "gridcolor": "white",
            "linecolor": "white",
            "ticks": ""
           },
           "bgcolor": "#E5ECF6",
           "caxis": {
            "gridcolor": "white",
            "linecolor": "white",
            "ticks": ""
           }
          },
          "title": {
           "x": 0.05
          },
          "xaxis": {
           "automargin": true,
           "gridcolor": "white",
           "linecolor": "white",
           "ticks": "",
           "zerolinecolor": "white",
           "zerolinewidth": 2
          },
          "yaxis": {
           "automargin": true,
           "gridcolor": "white",
           "linecolor": "white",
           "ticks": "",
           "zerolinecolor": "white",
           "zerolinewidth": 2
          }
         }
        },
        "title": {
         "text": "   Most Listened To Artist From Wikipedia"
        },
        "xaxis": {
         "anchor": "y",
         "domain": [
          0,
          0.98
         ],
         "title": {
          "text": "Artist"
         }
        },
        "yaxis": {
         "anchor": "x",
         "domain": [
          0,
          1
         ],
         "title": {
          "text": "sum of Monthly listeners(millions)"
         }
        }
       }
      },
      "text/html": [
       "<div>\n",
       "        \n",
       "        \n",
       "            <div id=\"8a575593-e697-43a8-bb71-a4f154acca47\" class=\"plotly-graph-div\" style=\"height:600px; width:100%;\"></div>\n",
       "            <script type=\"text/javascript\">\n",
       "                require([\"plotly\"], function(Plotly) {\n",
       "                    window.PLOTLYENV=window.PLOTLYENV || {};\n",
       "                    \n",
       "                if (document.getElementById(\"8a575593-e697-43a8-bb71-a4f154acca47\")) {\n",
       "                    Plotly.newPlot(\n",
       "                        '8a575593-e697-43a8-bb71-a4f154acca47',\n",
       "                        [{\"alignmentgroup\": \"True\", \"bingroup\": \"x\", \"histfunc\": \"sum\", \"hoverlabel\": {\"namelength\": 0}, \"hovertemplate\": \"Artist=%{x}<br>sum of Monthly listeners(millions)=%{y}\", \"legendgroup\": \"\", \"marker\": {\"color\": \"#636efa\"}, \"name\": \"\", \"offsetgroup\": \"\", \"orientation\": \"v\", \"showlegend\": false, \"type\": \"histogram\", \"x\": [\"Justin Bieber\", \"The Weeknd\", \"Dua Lipa\", \"Bruno Mars\", \"Ariana Grande\", \"J Balvin\", \"Drake\", \"Khalid\", \"Maroon 5\", \"Ed Sheeran\", \"Giveon\", \"DaBaby\", \"David Guetta\", \"Taylor Swift\", \"Lil Nas X\", \"Doja Cat\", \"Travis Scott\", \"Bad Bunny\", \"Rihanna\", \"Daniel Caesar\", \"As of April 26, 2021\"], \"xaxis\": \"x\", \"y\": [\"76.74\", \"68.89\", \"63.90\", \"56.28\", \"55.72\", \"54.63\", \"53.70\", \"53.59\", \"52.61\", \"52.11\", \"49.93\", \"49.16\", \"48.27\", \"47.98\", \"46.79\", \"46.62\", \"45.56\", \"45.55\", \"45.26\", \"44.23\", \"As of April 26, 2021\"], \"yaxis\": \"y\"}],\n",
       "                        {\"barmode\": \"relative\", \"height\": 600, \"legend\": {\"tracegroupgap\": 0}, \"template\": {\"data\": {\"bar\": [{\"error_x\": {\"color\": \"#2a3f5f\"}, \"error_y\": {\"color\": \"#2a3f5f\"}, \"marker\": {\"line\": {\"color\": \"#E5ECF6\", \"width\": 0.5}}, \"type\": \"bar\"}], \"barpolar\": [{\"marker\": {\"line\": {\"color\": \"#E5ECF6\", \"width\": 0.5}}, \"type\": \"barpolar\"}], \"carpet\": [{\"aaxis\": {\"endlinecolor\": \"#2a3f5f\", \"gridcolor\": \"white\", \"linecolor\": \"white\", \"minorgridcolor\": \"white\", \"startlinecolor\": \"#2a3f5f\"}, \"baxis\": {\"endlinecolor\": \"#2a3f5f\", \"gridcolor\": \"white\", \"linecolor\": \"white\", \"minorgridcolor\": \"white\", \"startlinecolor\": \"#2a3f5f\"}, \"type\": \"carpet\"}], \"choropleth\": [{\"colorbar\": {\"outlinewidth\": 0, \"ticks\": \"\"}, \"type\": \"choropleth\"}], \"contour\": [{\"colorbar\": {\"outlinewidth\": 0, \"ticks\": \"\"}, \"colorscale\": [[0.0, \"#0d0887\"], [0.1111111111111111, \"#46039f\"], [0.2222222222222222, \"#7201a8\"], [0.3333333333333333, \"#9c179e\"], [0.4444444444444444, \"#bd3786\"], [0.5555555555555556, \"#d8576b\"], [0.6666666666666666, \"#ed7953\"], [0.7777777777777778, \"#fb9f3a\"], [0.8888888888888888, \"#fdca26\"], [1.0, \"#f0f921\"]], \"type\": \"contour\"}], \"contourcarpet\": [{\"colorbar\": {\"outlinewidth\": 0, \"ticks\": \"\"}, \"type\": \"contourcarpet\"}], \"heatmap\": [{\"colorbar\": {\"outlinewidth\": 0, \"ticks\": \"\"}, \"colorscale\": [[0.0, \"#0d0887\"], [0.1111111111111111, \"#46039f\"], [0.2222222222222222, \"#7201a8\"], [0.3333333333333333, \"#9c179e\"], [0.4444444444444444, \"#bd3786\"], [0.5555555555555556, \"#d8576b\"], [0.6666666666666666, \"#ed7953\"], [0.7777777777777778, \"#fb9f3a\"], [0.8888888888888888, \"#fdca26\"], [1.0, \"#f0f921\"]], \"type\": \"heatmap\"}], \"heatmapgl\": [{\"colorbar\": {\"outlinewidth\": 0, \"ticks\": \"\"}, \"colorscale\": [[0.0, \"#0d0887\"], [0.1111111111111111, \"#46039f\"], [0.2222222222222222, \"#7201a8\"], [0.3333333333333333, \"#9c179e\"], [0.4444444444444444, \"#bd3786\"], [0.5555555555555556, \"#d8576b\"], [0.6666666666666666, \"#ed7953\"], [0.7777777777777778, \"#fb9f3a\"], [0.8888888888888888, \"#fdca26\"], [1.0, \"#f0f921\"]], \"type\": \"heatmapgl\"}], \"histogram\": [{\"marker\": {\"colorbar\": {\"outlinewidth\": 0, \"ticks\": \"\"}}, \"type\": \"histogram\"}], \"histogram2d\": [{\"colorbar\": {\"outlinewidth\": 0, \"ticks\": \"\"}, \"colorscale\": [[0.0, \"#0d0887\"], [0.1111111111111111, \"#46039f\"], [0.2222222222222222, \"#7201a8\"], [0.3333333333333333, \"#9c179e\"], [0.4444444444444444, \"#bd3786\"], [0.5555555555555556, \"#d8576b\"], [0.6666666666666666, \"#ed7953\"], [0.7777777777777778, \"#fb9f3a\"], [0.8888888888888888, \"#fdca26\"], [1.0, \"#f0f921\"]], \"type\": \"histogram2d\"}], \"histogram2dcontour\": [{\"colorbar\": {\"outlinewidth\": 0, \"ticks\": \"\"}, \"colorscale\": [[0.0, \"#0d0887\"], [0.1111111111111111, \"#46039f\"], [0.2222222222222222, \"#7201a8\"], [0.3333333333333333, \"#9c179e\"], [0.4444444444444444, \"#bd3786\"], [0.5555555555555556, \"#d8576b\"], [0.6666666666666666, \"#ed7953\"], [0.7777777777777778, \"#fb9f3a\"], [0.8888888888888888, \"#fdca26\"], [1.0, \"#f0f921\"]], \"type\": \"histogram2dcontour\"}], \"mesh3d\": [{\"colorbar\": {\"outlinewidth\": 0, \"ticks\": \"\"}, \"type\": \"mesh3d\"}], \"parcoords\": [{\"line\": {\"colorbar\": {\"outlinewidth\": 0, \"ticks\": \"\"}}, \"type\": \"parcoords\"}], \"scatter\": [{\"marker\": {\"colorbar\": {\"outlinewidth\": 0, \"ticks\": \"\"}}, \"type\": \"scatter\"}], \"scatter3d\": [{\"line\": {\"colorbar\": {\"outlinewidth\": 0, \"ticks\": \"\"}}, \"marker\": {\"colorbar\": {\"outlinewidth\": 0, \"ticks\": \"\"}}, \"type\": \"scatter3d\"}], \"scattercarpet\": [{\"marker\": {\"colorbar\": {\"outlinewidth\": 0, \"ticks\": \"\"}}, \"type\": \"scattercarpet\"}], \"scattergeo\": [{\"marker\": {\"colorbar\": {\"outlinewidth\": 0, \"ticks\": \"\"}}, \"type\": \"scattergeo\"}], \"scattergl\": [{\"marker\": {\"colorbar\": {\"outlinewidth\": 0, \"ticks\": \"\"}}, \"type\": \"scattergl\"}], \"scattermapbox\": [{\"marker\": {\"colorbar\": {\"outlinewidth\": 0, \"ticks\": \"\"}}, \"type\": \"scattermapbox\"}], \"scatterpolar\": [{\"marker\": {\"colorbar\": {\"outlinewidth\": 0, \"ticks\": \"\"}}, \"type\": \"scatterpolar\"}], \"scatterpolargl\": [{\"marker\": {\"colorbar\": {\"outlinewidth\": 0, \"ticks\": \"\"}}, \"type\": \"scatterpolargl\"}], \"scatterternary\": [{\"marker\": {\"colorbar\": {\"outlinewidth\": 0, \"ticks\": \"\"}}, \"type\": \"scatterternary\"}], \"surface\": [{\"colorbar\": {\"outlinewidth\": 0, \"ticks\": \"\"}, \"colorscale\": [[0.0, \"#0d0887\"], [0.1111111111111111, \"#46039f\"], [0.2222222222222222, \"#7201a8\"], [0.3333333333333333, \"#9c179e\"], [0.4444444444444444, \"#bd3786\"], [0.5555555555555556, \"#d8576b\"], [0.6666666666666666, \"#ed7953\"], [0.7777777777777778, \"#fb9f3a\"], [0.8888888888888888, \"#fdca26\"], [1.0, \"#f0f921\"]], \"type\": \"surface\"}], \"table\": [{\"cells\": {\"fill\": {\"color\": \"#EBF0F8\"}, \"line\": {\"color\": \"white\"}}, \"header\": {\"fill\": {\"color\": \"#C8D4E3\"}, \"line\": {\"color\": \"white\"}}, \"type\": \"table\"}]}, \"layout\": {\"annotationdefaults\": {\"arrowcolor\": \"#2a3f5f\", \"arrowhead\": 0, \"arrowwidth\": 1}, \"colorscale\": {\"diverging\": [[0, \"#8e0152\"], [0.1, \"#c51b7d\"], [0.2, \"#de77ae\"], [0.3, \"#f1b6da\"], [0.4, \"#fde0ef\"], [0.5, \"#f7f7f7\"], [0.6, \"#e6f5d0\"], [0.7, \"#b8e186\"], [0.8, \"#7fbc41\"], [0.9, \"#4d9221\"], [1, \"#276419\"]], \"sequential\": [[0.0, \"#0d0887\"], [0.1111111111111111, \"#46039f\"], [0.2222222222222222, \"#7201a8\"], [0.3333333333333333, \"#9c179e\"], [0.4444444444444444, \"#bd3786\"], [0.5555555555555556, \"#d8576b\"], [0.6666666666666666, \"#ed7953\"], [0.7777777777777778, \"#fb9f3a\"], [0.8888888888888888, \"#fdca26\"], [1.0, \"#f0f921\"]], \"sequentialminus\": [[0.0, \"#0d0887\"], [0.1111111111111111, \"#46039f\"], [0.2222222222222222, \"#7201a8\"], [0.3333333333333333, \"#9c179e\"], [0.4444444444444444, \"#bd3786\"], [0.5555555555555556, \"#d8576b\"], [0.6666666666666666, \"#ed7953\"], [0.7777777777777778, \"#fb9f3a\"], [0.8888888888888888, \"#fdca26\"], [1.0, \"#f0f921\"]]}, \"colorway\": [\"#636efa\", \"#EF553B\", \"#00cc96\", \"#ab63fa\", \"#FFA15A\", \"#19d3f3\", \"#FF6692\", \"#B6E880\", \"#FF97FF\", \"#FECB52\"], \"font\": {\"color\": \"#2a3f5f\"}, \"geo\": {\"bgcolor\": \"white\", \"lakecolor\": \"white\", \"landcolor\": \"#E5ECF6\", \"showlakes\": true, \"showland\": true, \"subunitcolor\": \"white\"}, \"hoverlabel\": {\"align\": \"left\"}, \"hovermode\": \"closest\", \"mapbox\": {\"style\": \"light\"}, \"paper_bgcolor\": \"white\", \"plot_bgcolor\": \"#E5ECF6\", \"polar\": {\"angularaxis\": {\"gridcolor\": \"white\", \"linecolor\": \"white\", \"ticks\": \"\"}, \"bgcolor\": \"#E5ECF6\", \"radialaxis\": {\"gridcolor\": \"white\", \"linecolor\": \"white\", \"ticks\": \"\"}}, \"scene\": {\"xaxis\": {\"backgroundcolor\": \"#E5ECF6\", \"gridcolor\": \"white\", \"gridwidth\": 2, \"linecolor\": \"white\", \"showbackground\": true, \"ticks\": \"\", \"zerolinecolor\": \"white\"}, \"yaxis\": {\"backgroundcolor\": \"#E5ECF6\", \"gridcolor\": \"white\", \"gridwidth\": 2, \"linecolor\": \"white\", \"showbackground\": true, \"ticks\": \"\", \"zerolinecolor\": \"white\"}, \"zaxis\": {\"backgroundcolor\": \"#E5ECF6\", \"gridcolor\": \"white\", \"gridwidth\": 2, \"linecolor\": \"white\", \"showbackground\": true, \"ticks\": \"\", \"zerolinecolor\": \"white\"}}, \"shapedefaults\": {\"line\": {\"color\": \"#2a3f5f\"}}, \"ternary\": {\"aaxis\": {\"gridcolor\": \"white\", \"linecolor\": \"white\", \"ticks\": \"\"}, \"baxis\": {\"gridcolor\": \"white\", \"linecolor\": \"white\", \"ticks\": \"\"}, \"bgcolor\": \"#E5ECF6\", \"caxis\": {\"gridcolor\": \"white\", \"linecolor\": \"white\", \"ticks\": \"\"}}, \"title\": {\"x\": 0.05}, \"xaxis\": {\"automargin\": true, \"gridcolor\": \"white\", \"linecolor\": \"white\", \"ticks\": \"\", \"zerolinecolor\": \"white\", \"zerolinewidth\": 2}, \"yaxis\": {\"automargin\": true, \"gridcolor\": \"white\", \"linecolor\": \"white\", \"ticks\": \"\", \"zerolinecolor\": \"white\", \"zerolinewidth\": 2}}}, \"title\": {\"text\": \"   Most Listened To Artist From Wikipedia\"}, \"xaxis\": {\"anchor\": \"y\", \"domain\": [0.0, 0.98], \"title\": {\"text\": \"Artist\"}}, \"yaxis\": {\"anchor\": \"x\", \"domain\": [0.0, 1.0], \"title\": {\"text\": \"sum of Monthly listeners(millions)\"}}},\n",
       "                        {\"responsive\": true}\n",
       "                    ).then(function(){\n",
       "                            \n",
       "var gd = document.getElementById('8a575593-e697-43a8-bb71-a4f154acca47');\n",
       "var x = new MutationObserver(function (mutations, observer) {{\n",
       "        var display = window.getComputedStyle(gd).display;\n",
       "        if (!display || display === 'none') {{\n",
       "            console.log([gd, 'removed!']);\n",
       "            Plotly.purge(gd);\n",
       "            observer.disconnect();\n",
       "        }}\n",
       "}});\n",
       "\n",
       "// Listen for the removal of the full notebook cells\n",
       "var notebookContainer = gd.closest('#notebook-container');\n",
       "if (notebookContainer) {{\n",
       "    x.observe(notebookContainer, {childList: true});\n",
       "}}\n",
       "\n",
       "// Listen for the clearing of the current output cell\n",
       "var outputEl = gd.closest('.output');\n",
       "if (outputEl) {{\n",
       "    x.observe(outputEl, {childList: true});\n",
       "}}\n",
       "\n",
       "                        })\n",
       "                };\n",
       "                });\n",
       "            </script>\n",
       "        </div>"
      ]
     },
     "metadata": {},
     "output_type": "display_data"
    }
   ],
   "source": [
    "#Most Listened To Artist From Wikipedia plot\n",
    "\n",
    "fig3 = px.histogram(most_listend_df, x=\"Artist\",\n",
    "                   y=\"Monthly listeners(millions)\", \n",
    "                   title='   Most Listened To Artist From Wikipedia',\n",
    "                   histfunc='sum',\n",
    "                   orientation='v')\n",
    "\n",
    "\n",
    "fig3.show()\n",
    "\n",
    "\n",
    "fig3.write_image(\"images/fig3.png\") # exporting the fig"
   ]
  },
  {
   "cell_type": "markdown",
   "metadata": {
    "id": "0BdThuJUdB8V"
   },
   "source": [
    "References:\n",
    "\n",
    "https://www.geeksforgeeks.org/different-ways-to-create-pandas-dataframe/\n",
    "\n",
    "https://www.geeksforgeeks.org/numpy-mean-in-python/\n",
    "\n",
    "https://plotly.com/python/histograms/\n",
    "\n",
    "\n",
    "https://docs.scipy.org/doc/numpy-1.15.0/reference/generated/numpy.random.permutation.html\n"
   ]
  },
  {
   "cell_type": "markdown",
   "metadata": {
    "id": "JO2EZxR4EAxV"
   },
   "source": [
    "https://stackoverflow.com/questions/19555525/saving-plots-axessubplot-generated-from-python-pandas-with-matplotlibs-savefi"
   ]
  },
  {
   "cell_type": "code",
   "execution_count": null,
   "metadata": {},
   "outputs": [],
   "source": []
  }
 ],
 "metadata": {
  "colab": {
   "collapsed_sections": [],
   "name": "Spotify_Draft.ipynb",
   "provenance": [],
   "toc_visible": true
  },
  "kernelspec": {
   "display_name": "Python 3",
   "language": "python",
   "name": "python3"
  },
  "language_info": {
   "codemirror_mode": {
    "name": "ipython",
    "version": 3
   },
   "file_extension": ".py",
   "mimetype": "text/x-python",
   "name": "python",
   "nbconvert_exporter": "python",
   "pygments_lexer": "ipython3",
   "version": "3.7.3"
  }
 },
 "nbformat": 4,
 "nbformat_minor": 1
}
